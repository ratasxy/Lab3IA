{
 "cells": [
  {
   "cell_type": "code",
   "execution_count": 9,
   "metadata": {},
   "outputs": [
    {
     "name": "stdout",
     "output_type": "stream",
     "text": [
      "PyTorch Version: 1.7.0\n",
      "\n",
      "Python 3.8.6 (default, Oct  8 2020, 14:06:32) \n",
      "[Clang 12.0.0 (clang-1200.0.32.2)]\n",
      "Pandas 1.1.2\n",
      "Scikit-Learn 0.23.2\n",
      "GPU is NOT AVAILABLE\n"
     ]
    }
   ],
   "source": [
    "import sys\n",
    "import numpy as np\n",
    "import pandas as pd\n",
    "import matplotlib.pyplot as plt\n",
    "# What version of Python do you have?\n",
    "import torch\n",
    "import sklearn as sk\n",
    "from sklearn.model_selection import StratifiedKFold\n",
    "import copy\n",
    "print(f\"PyTorch Version: {torch.__version__}\")\n",
    "print()\n",
    "print(f\"Python {sys.version}\")\n",
    "print(f\"Pandas {pd.__version__}\")\n",
    "print(f\"Scikit-Learn {sk.__version__}\")\n",
    "print(\"GPU is\", \"available\" if torch.cuda.is_available() else \"NOT AVAILABLE\")"
   ]
  },
  {
   "cell_type": "markdown",
   "metadata": {},
   "source": [
    "# Normalizar Datos"
   ]
  },
  {
   "cell_type": "code",
   "execution_count": 10,
   "metadata": {},
   "outputs": [],
   "source": [
    "def normalize(vector):\n",
    "    media_vector = vector.mean(axis=0)\n",
    "    std_vector = vector.std(axis=0)\n",
    "    return (vector - media_vector)/std_vector, media_vector, std_vector"
   ]
  },
  {
   "cell_type": "markdown",
   "metadata": {},
   "source": [
    "# Sigmoidal"
   ]
  },
  {
   "cell_type": "code",
   "execution_count": 11,
   "metadata": {},
   "outputs": [
    {
     "ename": "AssertionError",
     "evalue": "Torch not compiled with CUDA enabled",
     "output_type": "error",
     "traceback": [
      "\u001b[0;31m---------------------------------------------------------------------------\u001b[0m",
      "\u001b[0;31mAssertionError\u001b[0m                            Traceback (most recent call last)",
      "\u001b[0;32m<ipython-input-11-9c3116c5dbba>\u001b[0m in \u001b[0;36m<module>\u001b[0;34m\u001b[0m\n\u001b[1;32m      4\u001b[0m \u001b[0;34m\u001b[0m\u001b[0m\n\u001b[1;32m      5\u001b[0m \u001b[0;34m\u001b[0m\u001b[0m\n\u001b[0;32m----> 6\u001b[0;31m \u001b[0mA\u001b[0m \u001b[0;34m=\u001b[0m \u001b[0mtorch\u001b[0m\u001b[0;34m.\u001b[0m\u001b[0mtensor\u001b[0m\u001b[0;34m(\u001b[0m\u001b[0;34m[\u001b[0m\u001b[0;34m[\u001b[0m\u001b[0;36m1.\u001b[0m\u001b[0;34m,\u001b[0m\u001b[0;36m0.\u001b[0m\u001b[0;34m]\u001b[0m\u001b[0;34m,\u001b[0m\u001b[0;34m[\u001b[0m\u001b[0;36m0.\u001b[0m\u001b[0;34m,\u001b[0m\u001b[0;36m1.\u001b[0m\u001b[0;34m]\u001b[0m\u001b[0;34m]\u001b[0m\u001b[0;34m)\u001b[0m\u001b[0;34m.\u001b[0m\u001b[0mto\u001b[0m\u001b[0;34m(\u001b[0m\u001b[0;34m'cuda'\u001b[0m\u001b[0;34m)\u001b[0m\u001b[0;34m\u001b[0m\u001b[0;34m\u001b[0m\u001b[0m\n\u001b[0m\u001b[1;32m      7\u001b[0m \u001b[0mb\u001b[0m \u001b[0;34m=\u001b[0m \u001b[0mtorch\u001b[0m\u001b[0;34m.\u001b[0m\u001b[0mtensor\u001b[0m\u001b[0;34m(\u001b[0m\u001b[0;34m[\u001b[0m\u001b[0;34m[\u001b[0m\u001b[0;36m0.\u001b[0m\u001b[0;34m]\u001b[0m\u001b[0;34m,\u001b[0m\u001b[0;34m[\u001b[0m\u001b[0;36m0.\u001b[0m\u001b[0;34m]\u001b[0m\u001b[0;34m]\u001b[0m\u001b[0;34m)\u001b[0m\u001b[0;34m.\u001b[0m\u001b[0mto\u001b[0m\u001b[0;34m(\u001b[0m\u001b[0;34m'cuda'\u001b[0m\u001b[0;34m)\u001b[0m\u001b[0;34m\u001b[0m\u001b[0;34m\u001b[0m\u001b[0m\n\u001b[1;32m      8\u001b[0m \u001b[0mans\u001b[0m \u001b[0;34m=\u001b[0m \u001b[0mtorch\u001b[0m\u001b[0;34m.\u001b[0m\u001b[0mmatmul\u001b[0m\u001b[0;34m(\u001b[0m\u001b[0mA\u001b[0m\u001b[0;34m,\u001b[0m\u001b[0mb\u001b[0m\u001b[0;34m)\u001b[0m\u001b[0;34m\u001b[0m\u001b[0;34m\u001b[0m\u001b[0m\n",
      "\u001b[0;32m/usr/local/lib/python3.8/site-packages/torch/cuda/__init__.py\u001b[0m in \u001b[0;36m_lazy_init\u001b[0;34m()\u001b[0m\n\u001b[1;32m    164\u001b[0m                 \"Cannot re-initialize CUDA in forked subprocess. \" + msg)\n\u001b[1;32m    165\u001b[0m         \u001b[0;32mif\u001b[0m \u001b[0;32mnot\u001b[0m \u001b[0mhasattr\u001b[0m\u001b[0;34m(\u001b[0m\u001b[0mtorch\u001b[0m\u001b[0;34m.\u001b[0m\u001b[0m_C\u001b[0m\u001b[0;34m,\u001b[0m \u001b[0;34m'_cuda_getDeviceCount'\u001b[0m\u001b[0;34m)\u001b[0m\u001b[0;34m:\u001b[0m\u001b[0;34m\u001b[0m\u001b[0;34m\u001b[0m\u001b[0m\n\u001b[0;32m--> 166\u001b[0;31m             \u001b[0;32mraise\u001b[0m \u001b[0mAssertionError\u001b[0m\u001b[0;34m(\u001b[0m\u001b[0;34m\"Torch not compiled with CUDA enabled\"\u001b[0m\u001b[0;34m)\u001b[0m\u001b[0;34m\u001b[0m\u001b[0;34m\u001b[0m\u001b[0m\n\u001b[0m\u001b[1;32m    167\u001b[0m         \u001b[0;32mif\u001b[0m \u001b[0m_cudart\u001b[0m \u001b[0;32mis\u001b[0m \u001b[0;32mNone\u001b[0m\u001b[0;34m:\u001b[0m\u001b[0;34m\u001b[0m\u001b[0;34m\u001b[0m\u001b[0m\n\u001b[1;32m    168\u001b[0m             raise AssertionError(\n",
      "\u001b[0;31mAssertionError\u001b[0m: Torch not compiled with CUDA enabled"
     ]
    }
   ],
   "source": [
    "# implemento la función sigmoidal\n",
    "def sigma(x):\n",
    "    return 1.0 / (1 + torch.exp(-x)) \n",
    "\n",
    "\n",
    "A = torch.tensor([[1.,0.],[0.,1.]]).to('cuda')\n",
    "b = torch.tensor([[0.],[0.]]).to('cuda')\n",
    "ans = torch.matmul(A,b)\n",
    "sigma(ans)"
   ]
  },
  {
   "cell_type": "markdown",
   "metadata": {},
   "source": [
    "# Calcular Función de Costo\n",
    "En teoría la función costo es la norma del vector resultante de la diferencia del valor resultante de la entrada X y su valor resultante definido.  \n",
    "$$\n",
    "Cost(X, y) = \\sum_{i=0}^{m}(y^i- \\hat{y}^i)^{2} = \\|h_{\\theta}(X) - y\\|\n",
    "$$\n",
    "En el caso de nuestra implementación como todos los datos de entrada serán insertados en una sola pasada, necesito el promedio de la diferencia de cada valor de salida.  "
   ]
  },
  {
   "cell_type": "code",
   "execution_count": 41,
   "metadata": {},
   "outputs": [
    {
     "data": {
      "text/plain": [
       "tensor(0.7071, device='cuda:0')"
      ]
     },
     "execution_count": 41,
     "metadata": {},
     "output_type": "execute_result"
    }
   ],
   "source": [
    "# recibo los datos\n",
    "def Calcular_Funcion_Costo(y):\n",
    "    return torch.linalg.norm(y)\n",
    "    #return torch.linalg.norm(y) / y.nelement()\n",
    "    #return torch.sqrt(torch.sum(y**2)) / y.nelement()\n",
    "    #return torch.mean(torch.linalg.norm(vector, dim=0))\n",
    "A = torch.tensor([[1.,0.],[0.,1.]]).to('cuda')\n",
    "b = torch.tensor([[0.],[0.]]).to('cuda')\n",
    "ans = torch.matmul(A,b)\n",
    "Calcular_Funcion_Costo(sigma(ans))"
   ]
  },
  {
   "cell_type": "markdown",
   "metadata": {},
   "source": [
    "# dS\n",
    "Recibe los datos $D$ y calcula para dichos datos la derivada de la función sigmoidal.  \n",
    "Recibiré un vector $a$ como en la teoría está establecido, luego retornaré la derivada de la función sigmoidal, dada por la ecuación:  \n",
    "$$\n",
    "\\frac{d\\sigma(x)}{dx} = \\sigma(x)(1 - \\sigma(x))\n",
    "$$\n",
    "Todo esto en notación vectorial."
   ]
  },
  {
   "cell_type": "code",
   "execution_count": 42,
   "metadata": {},
   "outputs": [
    {
     "name": "stdout",
     "output_type": "stream",
     "text": [
      "tensor([[0.1966],\n",
      "        [0.1050]], device='cuda:0')\n"
     ]
    }
   ],
   "source": [
    "def dS(D):\n",
    "    # recordemos que la variable sigma es la función sigmoidal vectorizada\n",
    "    return sigma(D)*(1 - sigma(D))\n",
    "\n",
    "a = torch.tensor([[1.],[2.]]).to('cuda')\n",
    "print(dS(a))"
   ]
  },
  {
   "cell_type": "markdown",
   "metadata": {},
   "source": [
    "# Forward\n",
    "Recibe los datos $X$ y un diccionario de parámetros $W$ (i.e. los pesos de cada capa), donde cada elemento del diccionario es una matriz de pesos; y realiza la etapa de propagación. Devuelve un diccionario de activaciones $A$, donde cada elemento del diccionario son las activaciones de cada capa."
   ]
  },
  {
   "cell_type": "code",
   "execution_count": 43,
   "metadata": {},
   "outputs": [
    {
     "name": "stdout",
     "output_type": "stream",
     "text": [
      "{0: {'W': tensor([[-0.5018,  0.9151,  0.4637],\n",
      "        [ 0.3624, -1.0123, -0.5464]], device='cuda:0', dtype=torch.float64), 'b': tensor([[-1.0648],\n",
      "        [-0.0363]], device='cuda:0', dtype=torch.float64)}, 1: {'W': tensor([[-0.3462,  0.5672],\n",
      "        [ 0.5015,  0.2719],\n",
      "        [-2.1228,  0.5674]], device='cuda:0', dtype=torch.float64), 'b': tensor([[-0.2541],\n",
      "        [-0.5318],\n",
      "        [ 1.6055]], device='cuda:0', dtype=torch.float64)}}\n",
      "{0: {'a': tensor([[100.,  10.],\n",
      "        [ 50.,  70.],\n",
      "        [ 74.,  20.]], device='cuda:0', dtype=torch.float64), 'z': tensor([[100.,  10.],\n",
      "        [ 50.,  70.],\n",
      "        [ 74.,  20.]], device='cuda:0', dtype=torch.float64)}, 1: {'a': tensor([[1.0000e+00, 1.0000e+00],\n",
      "        [1.5216e-24, 1.0899e-34]], device='cuda:0', dtype=torch.float64), 'z': tensor([[ 28.8280,  67.2481],\n",
      "        [-54.8423, -78.2018]], device='cuda:0', dtype=torch.float64)}, 2: {'a': tensor([[0.3543, 0.3543],\n",
      "        [0.4924, 0.4924],\n",
      "        [0.3735, 0.3735]], device='cuda:0', dtype=torch.float64), 'z': tensor([[-0.6003, -0.6003],\n",
      "        [-0.0302, -0.0302],\n",
      "        [-0.5173, -0.5173]], device='cuda:0', dtype=torch.float64)}}\n"
     ]
    }
   ],
   "source": [
    "# El primer paso es crear todas las matrices de pesos basándonos en las dimensiones de la entrada X\n",
    "# y el tamaño del batch que ingresaremos\n",
    "def generar_pesos(parameters):\n",
    "    layers = {}\n",
    "    n = len(parameters)\n",
    "    # i -> (0,1,...,n-1)\n",
    "    for i in range(0, n-1):\n",
    "        layers[i] = {\"W\": torch.randn(parameters[i+1], parameters[i], dtype=torch.double).to('cuda'),\n",
    "                     \"b\": torch.randn(parameters[i+1], 1, dtype=torch.double).to('cuda')}\n",
    "    return layers\n",
    "\n",
    "def Forward(X, W):\n",
    "    A = {0: {\"a\": X, \"z\": X}} # el diccionario a retornar\n",
    "               # como primer elemento de la lista esta X, para mantener el orden\n",
    "    n = len(W) # primero extraigo la cantidad de pesos para iterar sobre eso\n",
    "    for i in range(1, n + 1):\n",
    "        activation = torch.matmul(W[i-1][\"W\"], A[i-1][\"a\"]) + W[i-1][\"b\"] # se hace broadcasting al sumar el bias\n",
    "        A[i] = {\"a\": sigma(activation), \"z\": activation}\n",
    "    return A\n",
    "\n",
    "\n",
    "Wout = generar_pesos([3,2,3])\n",
    "print(Wout)\n",
    "Xin = torch.tensor([[100, 10],[50, 70],[74, 20]], dtype=torch.double).to('cuda')\n",
    "print(Forward(Xin, Wout))"
   ]
  },
  {
   "cell_type": "markdown",
   "metadata": {},
   "source": [
    "# Backward"
   ]
  },
  {
   "cell_type": "code",
   "execution_count": 44,
   "metadata": {},
   "outputs": [
    {
     "name": "stdout",
     "output_type": "stream",
     "text": [
      "{0: {'W': tensor([[-0.3144, -0.7152,  1.7637],\n",
      "        [-0.8687, -1.0222, -0.7393]], device='cuda:0', dtype=torch.float64), 'b': tensor([[ 0.0831],\n",
      "        [-1.6285]], device='cuda:0', dtype=torch.float64)}, 1: {'W': tensor([[-0.8095, -0.1356],\n",
      "        [-1.2258,  0.7945],\n",
      "        [ 1.8109,  0.0851]], device='cuda:0', dtype=torch.float64), 'b': tensor([[ 0.9202],\n",
      "        [-0.6306],\n",
      "        [ 0.2565]], device='cuda:0', dtype=torch.float64)}}\n",
      "{0: {'W': tensor([[-0.3144, -0.7152,  1.7637],\n",
      "        [-0.8687, -1.0222, -0.7393]], device='cuda:0', dtype=torch.float64), 'b': tensor([[ 0.0831],\n",
      "        [-1.6285]], device='cuda:0', dtype=torch.float64)}, 1: {'W': tensor([[-0.7506, -0.1356],\n",
      "        [-1.2337,  0.7945],\n",
      "        [ 1.7666,  0.0851]], device='cuda:0', dtype=torch.float64), 'b': tensor([[ 0.9132],\n",
      "        [-0.5976],\n",
      "        [ 0.1997]], device='cuda:0', dtype=torch.float64)}}\n"
     ]
    }
   ],
   "source": [
    "def Backward(X, A, W, y, lr):\n",
    "    \"\"\"\n",
    "    X: valores de entrada\n",
    "    A: diccionario con los resultados de cada capa\n",
    "    W: diccionario con los pesos de cada capa\n",
    "    y: salida de la última capa\n",
    "    lr: tasa de aprendizaje (learning rate en inglés)\n",
    "    \"\"\"\n",
    "    r = len(A)-1\n",
    "    deltas = {r: -(y - A[r][\"a\"]) * dS(A[r][\"z\"])}\n",
    "    for i in range(r-1,-1,-1):\n",
    "        deltas[i] = torch.matmul(torch.t(W[i][\"W\"]), deltas[i+1]) * dS(A[i][\"z\"])\n",
    "        # ahora viene la etapa del gradiente descendiente, para los pesos\n",
    "        W[i][\"W\"] = W[i][\"W\"] - lr * torch.matmul(deltas[i+1], torch.t(A[i][\"a\"]))\n",
    "        W[i][\"b\"] = W[i][\"b\"] - lr * deltas[i+1]\n",
    "        W[i][\"b\"] = torch.mean(W[i][\"b\"], dim=1, keepdim=True)\n",
    "    return W\n",
    "\n",
    "Wout = generar_pesos([3,2,3])\n",
    "print(Wout)\n",
    "Xin = torch.tensor([[100, 10],[50, 70],[74, 20]], dtype=torch.double).to('cuda')\n",
    "A = Forward(Xin, Wout)\n",
    "yout = torch.tensor([[1, 0],[0, 1],[0, 0]], dtype=torch.double).to('cuda')\n",
    "print(Backward(Xin, A, Wout, yout, 0.5))"
   ]
  },
  {
   "cell_type": "markdown",
   "metadata": {},
   "source": [
    "# Gradiente Descendiente"
   ]
  },
  {
   "cell_type": "code",
   "execution_count": 52,
   "metadata": {},
   "outputs": [
    {
     "name": "stdout",
     "output_type": "stream",
     "text": [
      "tensor([[100.,  10.],\n",
      "        [ 50., 100.],\n",
      "        [ 74., 200.]], device='cuda:0', dtype=torch.float64)\n",
      "tensor([[1., 0.],\n",
      "        [0., 1.],\n",
      "        [0., 0.]], device='cuda:0', dtype=torch.float64)\n",
      "tensor([[0.9173, 0.0771],\n",
      "        [0.0870, 0.9189],\n",
      "        [0.0223, 0.0110]], device='cuda:0', dtype=torch.float64)\n",
      "{0: {'W': tensor([[ 0.7652,  0.4212,  0.3007],\n",
      "        [ 0.3215,  0.2752,  1.5116],\n",
      "        [-1.5492, -0.1839,  0.6061],\n",
      "        [ 1.4598, -0.7738,  0.4441]], device='cuda:0', dtype=torch.float64), 'b': tensor([[ 0.9583],\n",
      "        [-0.2309],\n",
      "        [ 1.7836],\n",
      "        [ 0.0221]], device='cuda:0', dtype=torch.float64)}, 1: {'W': tensor([[ 0.9531,  0.4864, -4.8897,  1.3988],\n",
      "        [-0.8710, -1.3368,  4.7782,  0.4496],\n",
      "        [-0.5446, -1.0077, -0.7202, -0.6816]], device='cuda:0',\n",
      "       dtype=torch.float64), 'b': tensor([[-0.4315],\n",
      "        [-0.5926],\n",
      "        [-1.5451]], device='cuda:0', dtype=torch.float64)}}\n"
     ]
    },
    {
     "data": {
      "text/plain": [
       "[tensor(0.1661, device='cuda:0', dtype=torch.float64),\n",
       " tensor(0.1661, device='cuda:0', dtype=torch.float64),\n",
       " tensor(0.1660, device='cuda:0', dtype=torch.float64)]"
      ]
     },
     "execution_count": 52,
     "metadata": {},
     "output_type": "execute_result"
    }
   ],
   "source": [
    "def Gradiente_Descendiente(X, y, W, epochs, lr):\n",
    "    result = {\"costs\": []}\n",
    "    Wout = copy.deepcopy(W)\n",
    "    for i in range(epochs):\n",
    "        Aout = Forward(X, Wout)\n",
    "        #result[\"weigths\"].append(W)\n",
    "        result[\"costs\"].append(Calcular_Funcion_Costo(y - Aout[len(Aout)-1][\"a\"]))\n",
    "        Backward(X, Aout, Wout, y, lr)\n",
    "    \n",
    "    #for idx in Wout:\n",
    "        #Wout[idx]['b'] = Wout[idx]['b'][:,0:1]\n",
    "    result['W'] = Wout\n",
    "    return result\n",
    "\n",
    "Wout = generar_pesos([3,4,3])\n",
    "Xin = torch.tensor([[100, 10],[50, 100],[74, 200]], dtype=torch.double).to('cuda')\n",
    "yout = torch.tensor([[1, 0],[0, 1],[0, 0]], dtype=torch.double).to('cuda')\n",
    "\n",
    "ans = Gradiente_Descendiente(Xin, yout, Wout, 2000, 0.1)\n",
    "print(Xin)\n",
    "print(yout)\n",
    "print(Forward(Xin, ans['W'])[2][\"a\"])\n",
    "print(ans['W'])\n",
    "ans[\"costs\"][-4:-1]"
   ]
  },
  {
   "cell_type": "code",
   "execution_count": 53,
   "metadata": {},
   "outputs": [
    {
     "data": {
      "text/plain": [
       "tensor([[0],\n",
       "        [0],\n",
       "        [1]], device='cuda:0', dtype=torch.int32)"
      ]
     },
     "execution_count": 53,
     "metadata": {},
     "output_type": "execute_result"
    }
   ],
   "source": [
    "# estimaremos el resultado de nuestros vectores considerando la posición del vector \n",
    "#con la máxima puntuación como 1 y el resto como 0, p.ej.\n",
    "# si tueviésemos un vector a = [0.5, 0.2, 0.7], su estimado será [0, 0, 1]\n",
    "def estimate_result(x): # receives a vector of n*1\n",
    "    Xout = torch.zeros(x.shape[0], x.shape[1], dtype=torch.int).to('cuda')\n",
    "    maxidx = torch.argmax(x, dim=0)\n",
    "    for i in range(maxidx.shape[0]):\n",
    "        Xout[maxidx[i], i] = 1\n",
    "    return Xout\n",
    "\n",
    "# una pequeña prueba\n",
    "vectest = torch.tensor([[0.5],[0.2],[0.7]], dtype=torch.double).to('cuda')\n",
    "vectest = estimate_result(vectest)\n",
    "vectest"
   ]
  },
  {
   "cell_type": "markdown",
   "metadata": {},
   "source": [
    "# Calcular Accuracy"
   ]
  },
  {
   "cell_type": "code",
   "execution_count": 54,
   "metadata": {},
   "outputs": [
    {
     "data": {
      "text/plain": [
       "0.5"
      ]
     },
     "execution_count": 54,
     "metadata": {},
     "output_type": "execute_result"
    }
   ],
   "source": [
    "def Calcular_Accuracy(YMLP, Y):\n",
    "    set_size = YMLP.shape[1]\n",
    "    correct = 0.0\n",
    "    for i in range(set_size):\n",
    "        if torch.all(torch.eq(YMLP[:,i], Y[:,i])):\n",
    "            correct += 1.0\n",
    "    return correct / set_size\n",
    "\n",
    "YMLP = torch.tensor([[1,0],[0,0],[0,1]], dtype=torch.double).to('cuda')\n",
    "Y = torch.tensor([[1,0],[1,0],[0,1]], dtype=torch.double).to('cuda')\n",
    "Calcular_Accuracy(YMLP, Y)"
   ]
  },
  {
   "cell_type": "markdown",
   "metadata": {},
   "source": [
    "# K-fold Cross Validation"
   ]
  },
  {
   "cell_type": "code",
   "execution_count": 55,
   "metadata": {},
   "outputs": [],
   "source": [
    "# myset será una lista con los valores de los \n",
    "def KfoldsCrossValidation(X, y, Y, params, k=3, shuff=True):\n",
    "    \"\"\"\n",
    "    X: el conjunto de datos reescalados\n",
    "    y: la columna de datos categóricos\n",
    "    Y: la columna de los datos categóricos con la configuración one hot\n",
    "    params: un diccionario de datos con los siguiente parámetros\n",
    "            -layers: una lista con el número de neuronas por cada capa\n",
    "            -learning: una lista con las tasas de aprendizaje a evaluar\n",
    "            -epochs: una lista con el número de épocas(iteraciones)\n",
    "    k: el k para realizar el k-folds (3 por defecto)\n",
    "    shuff: la variable booleana para decidir si los datos se barajan o no\n",
    "    \"\"\"\n",
    "    skf = StratifiedKFold(n_splits=k, shuffle=shuff)\n",
    "    learning_rates = params['learning']\n",
    "    epochs = params['epochs']\n",
    "    layers = params['layers']\n",
    "    bestAcc = 0\n",
    "    bestLr = -1\n",
    "    bestEpoch = -1\n",
    "    Weights = generar_pesos(layers)\n",
    "    for lr in learning_rates:\n",
    "        for epoch in epochs:\n",
    "            print(f'Tasa de aprendizaje: {lr}, épocas: {epoch} ', end=\"\")\n",
    "            avgAcc = 0\n",
    "            for train_index, test_index in skf.split(X, y):\n",
    "                #print(\"TRAIN:\", train_index[0:10], \"TEST:\", test_index[0:10])\n",
    "                X_train, X_test = torch.from_numpy(np.array(X[train_index], dtype='double').T).to('cuda'), torch.from_numpy(np.array(X[test_index], dtype='double').T).to('cuda')\n",
    "                y_train, y_test = torch.from_numpy(np.array(Y[train_index], dtype='double').T).to('cuda'), torch.from_numpy(np.array(Y[test_index], dtype='int').T).to('cuda')\n",
    "                ans = Gradiente_Descendiente(X_train, y_train, Weights, epoch, lr)\n",
    "                acc = estimate_result(Forward(X_test, ans['W'])[len(layers)-1][\"a\"]) # primero estimamos el valor de la última capa\n",
    "                acc = Calcular_Accuracy(acc, y_test)\n",
    "                avgAcc += acc\n",
    "            avgAcc /= k\n",
    "            if avgAcc > bestAcc:\n",
    "                bestAcc = avgAcc\n",
    "                bestLr = lr\n",
    "                bestEpoch = epoch\n",
    "            print(f'Average acc: {avgAcc}')\n",
    "            \n",
    "                \n",
    "    print(f'Results\\nBest learning rate: {bestLr}')\n",
    "    print(f'Best Nro epochs: {bestEpoch}')\n",
    "    print(f'Best Average Accuracy: {bestAcc}')\n",
    "        "
   ]
  },
  {
   "cell_type": "markdown",
   "metadata": {},
   "source": [
    "# Clasificación del género de música"
   ]
  },
  {
   "cell_type": "code",
   "execution_count": 43,
   "metadata": {},
   "outputs": [
    {
     "name": "stdout",
     "output_type": "stream",
     "text": [
      "Music genres:\n",
      " classical    100\n",
      "disco        100\n",
      "reggae       100\n",
      "hiphop       100\n",
      "rock         100\n",
      "blues        100\n",
      "country      100\n",
      "pop          100\n",
      "jazz         100\n",
      "metal        100\n",
      "Name: label, dtype: int64\n"
     ]
    },
    {
     "data": {
      "text/html": [
       "<div>\n",
       "<style scoped>\n",
       "    .dataframe tbody tr th:only-of-type {\n",
       "        vertical-align: middle;\n",
       "    }\n",
       "\n",
       "    .dataframe tbody tr th {\n",
       "        vertical-align: top;\n",
       "    }\n",
       "\n",
       "    .dataframe thead th {\n",
       "        text-align: right;\n",
       "    }\n",
       "</style>\n",
       "<table border=\"1\" class=\"dataframe\">\n",
       "  <thead>\n",
       "    <tr style=\"text-align: right;\">\n",
       "      <th></th>\n",
       "      <th>tempo</th>\n",
       "      <th>beats</th>\n",
       "      <th>chroma_stft</th>\n",
       "      <th>rmse</th>\n",
       "      <th>spectral_centroid</th>\n",
       "      <th>spectral_bandwidth</th>\n",
       "      <th>rolloff</th>\n",
       "      <th>zero_crossing_rate</th>\n",
       "      <th>mfcc1</th>\n",
       "      <th>mfcc2</th>\n",
       "      <th>...</th>\n",
       "      <th>mfcc12</th>\n",
       "      <th>mfcc13</th>\n",
       "      <th>mfcc14</th>\n",
       "      <th>mfcc15</th>\n",
       "      <th>mfcc16</th>\n",
       "      <th>mfcc17</th>\n",
       "      <th>mfcc18</th>\n",
       "      <th>mfcc19</th>\n",
       "      <th>mfcc20</th>\n",
       "      <th>label</th>\n",
       "    </tr>\n",
       "  </thead>\n",
       "  <tbody>\n",
       "    <tr>\n",
       "      <th>0</th>\n",
       "      <td>103.359375</td>\n",
       "      <td>50</td>\n",
       "      <td>0.380260</td>\n",
       "      <td>0.248262</td>\n",
       "      <td>2116.942959</td>\n",
       "      <td>1956.611056</td>\n",
       "      <td>4196.107960</td>\n",
       "      <td>0.127272</td>\n",
       "      <td>-26.929785</td>\n",
       "      <td>107.334008</td>\n",
       "      <td>...</td>\n",
       "      <td>14.336612</td>\n",
       "      <td>-13.821769</td>\n",
       "      <td>7.562789</td>\n",
       "      <td>-6.181372</td>\n",
       "      <td>0.330165</td>\n",
       "      <td>-6.829571</td>\n",
       "      <td>0.965922</td>\n",
       "      <td>-7.570825</td>\n",
       "      <td>2.918987</td>\n",
       "      <td>blues</td>\n",
       "    </tr>\n",
       "    <tr>\n",
       "      <th>1</th>\n",
       "      <td>95.703125</td>\n",
       "      <td>44</td>\n",
       "      <td>0.306451</td>\n",
       "      <td>0.113475</td>\n",
       "      <td>1156.070496</td>\n",
       "      <td>1497.668176</td>\n",
       "      <td>2170.053545</td>\n",
       "      <td>0.058613</td>\n",
       "      <td>-233.860772</td>\n",
       "      <td>136.170239</td>\n",
       "      <td>...</td>\n",
       "      <td>-2.250578</td>\n",
       "      <td>3.959198</td>\n",
       "      <td>5.322555</td>\n",
       "      <td>0.812028</td>\n",
       "      <td>-1.107202</td>\n",
       "      <td>-4.556555</td>\n",
       "      <td>-2.436490</td>\n",
       "      <td>3.316913</td>\n",
       "      <td>-0.608485</td>\n",
       "      <td>blues</td>\n",
       "    </tr>\n",
       "    <tr>\n",
       "      <th>2</th>\n",
       "      <td>151.999081</td>\n",
       "      <td>75</td>\n",
       "      <td>0.253487</td>\n",
       "      <td>0.151571</td>\n",
       "      <td>1331.073970</td>\n",
       "      <td>1973.643437</td>\n",
       "      <td>2900.174130</td>\n",
       "      <td>0.042967</td>\n",
       "      <td>-221.802549</td>\n",
       "      <td>110.843070</td>\n",
       "      <td>...</td>\n",
       "      <td>-13.037723</td>\n",
       "      <td>-12.652228</td>\n",
       "      <td>-1.821905</td>\n",
       "      <td>-7.260097</td>\n",
       "      <td>-6.660252</td>\n",
       "      <td>-14.682694</td>\n",
       "      <td>-11.719264</td>\n",
       "      <td>-11.025216</td>\n",
       "      <td>-13.387260</td>\n",
       "      <td>blues</td>\n",
       "    </tr>\n",
       "    <tr>\n",
       "      <th>3</th>\n",
       "      <td>184.570312</td>\n",
       "      <td>91</td>\n",
       "      <td>0.269320</td>\n",
       "      <td>0.119072</td>\n",
       "      <td>1361.045467</td>\n",
       "      <td>1567.804596</td>\n",
       "      <td>2739.625101</td>\n",
       "      <td>0.069124</td>\n",
       "      <td>-207.208080</td>\n",
       "      <td>132.799175</td>\n",
       "      <td>...</td>\n",
       "      <td>-0.613248</td>\n",
       "      <td>0.384877</td>\n",
       "      <td>2.605128</td>\n",
       "      <td>-5.188924</td>\n",
       "      <td>-9.527455</td>\n",
       "      <td>-9.244394</td>\n",
       "      <td>-2.848274</td>\n",
       "      <td>-1.418707</td>\n",
       "      <td>-5.932607</td>\n",
       "      <td>blues</td>\n",
       "    </tr>\n",
       "    <tr>\n",
       "      <th>4</th>\n",
       "      <td>161.499023</td>\n",
       "      <td>74</td>\n",
       "      <td>0.391059</td>\n",
       "      <td>0.137728</td>\n",
       "      <td>1811.076084</td>\n",
       "      <td>2052.332563</td>\n",
       "      <td>3927.809582</td>\n",
       "      <td>0.075480</td>\n",
       "      <td>-145.434568</td>\n",
       "      <td>102.829023</td>\n",
       "      <td>...</td>\n",
       "      <td>7.457218</td>\n",
       "      <td>-10.470444</td>\n",
       "      <td>-2.360483</td>\n",
       "      <td>-6.783623</td>\n",
       "      <td>2.671134</td>\n",
       "      <td>-4.760879</td>\n",
       "      <td>-0.949005</td>\n",
       "      <td>0.024832</td>\n",
       "      <td>-2.005315</td>\n",
       "      <td>blues</td>\n",
       "    </tr>\n",
       "  </tbody>\n",
       "</table>\n",
       "<p>5 rows × 29 columns</p>\n",
       "</div>"
      ],
      "text/plain": [
       "        tempo  beats  chroma_stft      rmse  spectral_centroid  \\\n",
       "0  103.359375     50     0.380260  0.248262        2116.942959   \n",
       "1   95.703125     44     0.306451  0.113475        1156.070496   \n",
       "2  151.999081     75     0.253487  0.151571        1331.073970   \n",
       "3  184.570312     91     0.269320  0.119072        1361.045467   \n",
       "4  161.499023     74     0.391059  0.137728        1811.076084   \n",
       "\n",
       "   spectral_bandwidth      rolloff  zero_crossing_rate       mfcc1  \\\n",
       "0         1956.611056  4196.107960            0.127272  -26.929785   \n",
       "1         1497.668176  2170.053545            0.058613 -233.860772   \n",
       "2         1973.643437  2900.174130            0.042967 -221.802549   \n",
       "3         1567.804596  2739.625101            0.069124 -207.208080   \n",
       "4         2052.332563  3927.809582            0.075480 -145.434568   \n",
       "\n",
       "        mfcc2  ...     mfcc12     mfcc13    mfcc14    mfcc15    mfcc16  \\\n",
       "0  107.334008  ...  14.336612 -13.821769  7.562789 -6.181372  0.330165   \n",
       "1  136.170239  ...  -2.250578   3.959198  5.322555  0.812028 -1.107202   \n",
       "2  110.843070  ... -13.037723 -12.652228 -1.821905 -7.260097 -6.660252   \n",
       "3  132.799175  ...  -0.613248   0.384877  2.605128 -5.188924 -9.527455   \n",
       "4  102.829023  ...   7.457218 -10.470444 -2.360483 -6.783623  2.671134   \n",
       "\n",
       "      mfcc17     mfcc18     mfcc19     mfcc20  label  \n",
       "0  -6.829571   0.965922  -7.570825   2.918987  blues  \n",
       "1  -4.556555  -2.436490   3.316913  -0.608485  blues  \n",
       "2 -14.682694 -11.719264 -11.025216 -13.387260  blues  \n",
       "3  -9.244394  -2.848274  -1.418707  -5.932607  blues  \n",
       "4  -4.760879  -0.949005   0.024832  -2.005315  blues  \n",
       "\n",
       "[5 rows x 29 columns]"
      ]
     },
     "execution_count": 43,
     "metadata": {},
     "output_type": "execute_result"
    }
   ],
   "source": [
    "# leo los datos\n",
    "Data = pd.read_csv('music_genre.csv')\n",
    "Data = Data.drop(['filename'], axis=1)\n",
    "# hacemos un shuffle de los datos\n",
    "# Data = Data.sample(frac=1).reset_index(drop=True)\n",
    "print(\"Music genres:\\n\", Data['label'].value_counts())\n",
    "Data.head()"
   ]
  },
  {
   "cell_type": "markdown",
   "metadata": {},
   "source": [
    "## One hot encoding para los datos"
   ]
  },
  {
   "cell_type": "code",
   "execution_count": 44,
   "metadata": {},
   "outputs": [],
   "source": [
    "genres = pd.get_dummies(Data[['label']])\n",
    "Xinput = Data.drop(['label'], axis=1)"
   ]
  },
  {
   "cell_type": "code",
   "execution_count": 45,
   "metadata": {},
   "outputs": [
    {
     "data": {
      "text/html": [
       "<div>\n",
       "<style scoped>\n",
       "    .dataframe tbody tr th:only-of-type {\n",
       "        vertical-align: middle;\n",
       "    }\n",
       "\n",
       "    .dataframe tbody tr th {\n",
       "        vertical-align: top;\n",
       "    }\n",
       "\n",
       "    .dataframe thead th {\n",
       "        text-align: right;\n",
       "    }\n",
       "</style>\n",
       "<table border=\"1\" class=\"dataframe\">\n",
       "  <thead>\n",
       "    <tr style=\"text-align: right;\">\n",
       "      <th></th>\n",
       "      <th>tempo</th>\n",
       "      <th>beats</th>\n",
       "      <th>chroma_stft</th>\n",
       "      <th>rmse</th>\n",
       "      <th>spectral_centroid</th>\n",
       "      <th>spectral_bandwidth</th>\n",
       "      <th>rolloff</th>\n",
       "      <th>zero_crossing_rate</th>\n",
       "      <th>mfcc1</th>\n",
       "      <th>mfcc2</th>\n",
       "      <th>...</th>\n",
       "      <th>mfcc12</th>\n",
       "      <th>mfcc13</th>\n",
       "      <th>mfcc14</th>\n",
       "      <th>mfcc15</th>\n",
       "      <th>mfcc16</th>\n",
       "      <th>mfcc17</th>\n",
       "      <th>mfcc18</th>\n",
       "      <th>mfcc19</th>\n",
       "      <th>mfcc20</th>\n",
       "      <th>label</th>\n",
       "    </tr>\n",
       "  </thead>\n",
       "  <tbody>\n",
       "    <tr>\n",
       "      <th>0</th>\n",
       "      <td>103.359375</td>\n",
       "      <td>50</td>\n",
       "      <td>0.380260</td>\n",
       "      <td>0.248262</td>\n",
       "      <td>2116.942959</td>\n",
       "      <td>1956.611056</td>\n",
       "      <td>4196.107960</td>\n",
       "      <td>0.127272</td>\n",
       "      <td>-26.929785</td>\n",
       "      <td>107.334008</td>\n",
       "      <td>...</td>\n",
       "      <td>14.336612</td>\n",
       "      <td>-13.821769</td>\n",
       "      <td>7.562789</td>\n",
       "      <td>-6.181372</td>\n",
       "      <td>0.330165</td>\n",
       "      <td>-6.829571</td>\n",
       "      <td>0.965922</td>\n",
       "      <td>-7.570825</td>\n",
       "      <td>2.918987</td>\n",
       "      <td>blues</td>\n",
       "    </tr>\n",
       "    <tr>\n",
       "      <th>1</th>\n",
       "      <td>95.703125</td>\n",
       "      <td>44</td>\n",
       "      <td>0.306451</td>\n",
       "      <td>0.113475</td>\n",
       "      <td>1156.070496</td>\n",
       "      <td>1497.668176</td>\n",
       "      <td>2170.053545</td>\n",
       "      <td>0.058613</td>\n",
       "      <td>-233.860772</td>\n",
       "      <td>136.170239</td>\n",
       "      <td>...</td>\n",
       "      <td>-2.250578</td>\n",
       "      <td>3.959198</td>\n",
       "      <td>5.322555</td>\n",
       "      <td>0.812028</td>\n",
       "      <td>-1.107202</td>\n",
       "      <td>-4.556555</td>\n",
       "      <td>-2.436490</td>\n",
       "      <td>3.316913</td>\n",
       "      <td>-0.608485</td>\n",
       "      <td>blues</td>\n",
       "    </tr>\n",
       "    <tr>\n",
       "      <th>2</th>\n",
       "      <td>151.999081</td>\n",
       "      <td>75</td>\n",
       "      <td>0.253487</td>\n",
       "      <td>0.151571</td>\n",
       "      <td>1331.073970</td>\n",
       "      <td>1973.643437</td>\n",
       "      <td>2900.174130</td>\n",
       "      <td>0.042967</td>\n",
       "      <td>-221.802549</td>\n",
       "      <td>110.843070</td>\n",
       "      <td>...</td>\n",
       "      <td>-13.037723</td>\n",
       "      <td>-12.652228</td>\n",
       "      <td>-1.821905</td>\n",
       "      <td>-7.260097</td>\n",
       "      <td>-6.660252</td>\n",
       "      <td>-14.682694</td>\n",
       "      <td>-11.719264</td>\n",
       "      <td>-11.025216</td>\n",
       "      <td>-13.387260</td>\n",
       "      <td>blues</td>\n",
       "    </tr>\n",
       "    <tr>\n",
       "      <th>3</th>\n",
       "      <td>184.570312</td>\n",
       "      <td>91</td>\n",
       "      <td>0.269320</td>\n",
       "      <td>0.119072</td>\n",
       "      <td>1361.045467</td>\n",
       "      <td>1567.804596</td>\n",
       "      <td>2739.625101</td>\n",
       "      <td>0.069124</td>\n",
       "      <td>-207.208080</td>\n",
       "      <td>132.799175</td>\n",
       "      <td>...</td>\n",
       "      <td>-0.613248</td>\n",
       "      <td>0.384877</td>\n",
       "      <td>2.605128</td>\n",
       "      <td>-5.188924</td>\n",
       "      <td>-9.527455</td>\n",
       "      <td>-9.244394</td>\n",
       "      <td>-2.848274</td>\n",
       "      <td>-1.418707</td>\n",
       "      <td>-5.932607</td>\n",
       "      <td>blues</td>\n",
       "    </tr>\n",
       "    <tr>\n",
       "      <th>4</th>\n",
       "      <td>161.499023</td>\n",
       "      <td>74</td>\n",
       "      <td>0.391059</td>\n",
       "      <td>0.137728</td>\n",
       "      <td>1811.076084</td>\n",
       "      <td>2052.332563</td>\n",
       "      <td>3927.809582</td>\n",
       "      <td>0.075480</td>\n",
       "      <td>-145.434568</td>\n",
       "      <td>102.829023</td>\n",
       "      <td>...</td>\n",
       "      <td>7.457218</td>\n",
       "      <td>-10.470444</td>\n",
       "      <td>-2.360483</td>\n",
       "      <td>-6.783623</td>\n",
       "      <td>2.671134</td>\n",
       "      <td>-4.760879</td>\n",
       "      <td>-0.949005</td>\n",
       "      <td>0.024832</td>\n",
       "      <td>-2.005315</td>\n",
       "      <td>blues</td>\n",
       "    </tr>\n",
       "  </tbody>\n",
       "</table>\n",
       "<p>5 rows × 29 columns</p>\n",
       "</div>"
      ],
      "text/plain": [
       "        tempo  beats  chroma_stft      rmse  spectral_centroid  \\\n",
       "0  103.359375     50     0.380260  0.248262        2116.942959   \n",
       "1   95.703125     44     0.306451  0.113475        1156.070496   \n",
       "2  151.999081     75     0.253487  0.151571        1331.073970   \n",
       "3  184.570312     91     0.269320  0.119072        1361.045467   \n",
       "4  161.499023     74     0.391059  0.137728        1811.076084   \n",
       "\n",
       "   spectral_bandwidth      rolloff  zero_crossing_rate       mfcc1  \\\n",
       "0         1956.611056  4196.107960            0.127272  -26.929785   \n",
       "1         1497.668176  2170.053545            0.058613 -233.860772   \n",
       "2         1973.643437  2900.174130            0.042967 -221.802549   \n",
       "3         1567.804596  2739.625101            0.069124 -207.208080   \n",
       "4         2052.332563  3927.809582            0.075480 -145.434568   \n",
       "\n",
       "        mfcc2  ...     mfcc12     mfcc13    mfcc14    mfcc15    mfcc16  \\\n",
       "0  107.334008  ...  14.336612 -13.821769  7.562789 -6.181372  0.330165   \n",
       "1  136.170239  ...  -2.250578   3.959198  5.322555  0.812028 -1.107202   \n",
       "2  110.843070  ... -13.037723 -12.652228 -1.821905 -7.260097 -6.660252   \n",
       "3  132.799175  ...  -0.613248   0.384877  2.605128 -5.188924 -9.527455   \n",
       "4  102.829023  ...   7.457218 -10.470444 -2.360483 -6.783623  2.671134   \n",
       "\n",
       "      mfcc17     mfcc18     mfcc19     mfcc20  label  \n",
       "0  -6.829571   0.965922  -7.570825   2.918987  blues  \n",
       "1  -4.556555  -2.436490   3.316913  -0.608485  blues  \n",
       "2 -14.682694 -11.719264 -11.025216 -13.387260  blues  \n",
       "3  -9.244394  -2.848274  -1.418707  -5.932607  blues  \n",
       "4  -4.760879  -0.949005   0.024832  -2.005315  blues  \n",
       "\n",
       "[5 rows x 29 columns]"
      ]
     },
     "execution_count": 45,
     "metadata": {},
     "output_type": "execute_result"
    }
   ],
   "source": [
    "# aplicando la normalización de los datos\n",
    "Xinput, mediaXinput, stdXinput = normalize(Xinput)\n",
    "Data.head()"
   ]
  },
  {
   "cell_type": "code",
   "execution_count": 46,
   "metadata": {},
   "outputs": [
    {
     "name": "stdout",
     "output_type": "stream",
     "text": [
      "(1000, 28)\n",
      "(1000, 10)\n"
     ]
    }
   ],
   "source": [
    "print(Xinput.shape)\n",
    "print(genres.shape)"
   ]
  },
  {
   "cell_type": "markdown",
   "metadata": {},
   "source": [
    "## K-folds cross validation\n",
    "### 0 capas intermedias"
   ]
  },
  {
   "cell_type": "code",
   "execution_count": 166,
   "metadata": {},
   "outputs": [
    {
     "name": "stdout",
     "output_type": "stream",
     "text": [
      "Tasa de aprendizaje: 0.2, épocas: 1000 Average acc: 0.2580334825843808\n",
      "Tasa de aprendizaje: 0.2, épocas: 1500 Average acc: 0.30398362434290577\n",
      "Tasa de aprendizaje: 0.2, épocas: 2000 Average acc: 0.3069926213638788\n",
      "Tasa de aprendizaje: 0.2, épocas: 2500 Average acc: 0.3109936283588978\n",
      "Tasa de aprendizaje: 0.2, épocas: 3000 Average acc: 0.2929995864127601\n",
      "Tasa de aprendizaje: 0.1, épocas: 1000 Average acc: 0.3179616742490994\n",
      "Tasa de aprendizaje: 0.1, épocas: 1500 Average acc: 0.3060185934437431\n",
      "Tasa de aprendizaje: 0.1, épocas: 2000 Average acc: 0.3369687052321783\n",
      "Tasa de aprendizaje: 0.1, épocas: 2500 Average acc: 0.28702055348761935\n",
      "Tasa de aprendizaje: 0.1, épocas: 3000 Average acc: 0.29296362230493966\n",
      "Tasa de aprendizaje: 0.07, épocas: 1000 Average acc: 0.3299826772880665\n",
      "Tasa de aprendizaje: 0.07, épocas: 1500 Average acc: 0.3249686812561064\n",
      "Tasa de aprendizaje: 0.07, épocas: 2000 Average acc: 0.3059526592460724\n",
      "Tasa de aprendizaje: 0.07, épocas: 2500 Average acc: 0.3180036323748899\n",
      "Tasa de aprendizaje: 0.07, épocas: 3000 Average acc: 0.33501765238292186\n",
      "Tasa de aprendizaje: 0.05, épocas: 1000 Average acc: 0.33502364640089194\n",
      "Tasa de aprendizaje: 0.05, épocas: 1500 Average acc: 0.33601265936595276\n",
      "Tasa de aprendizaje: 0.05, épocas: 2000 Average acc: 0.3440206673739608\n",
      "Tasa de aprendizaje: 0.05, épocas: 2500 Average acc: 0.326020631409853\n",
      "Tasa de aprendizaje: 0.05, épocas: 3000 Average acc: 0.3099746453039866\n",
      "Results\n",
      "Best learning rate: 0.05\n",
      "Best Nro epochs: 2000\n",
      "Best Average Accuracy: 0.3440206673739608\n"
     ]
    }
   ],
   "source": [
    "myparams = {\n",
    "            'layers': [Xinput.shape[1],genres.shape[1]],\n",
    "            'epochs': [1000, 1500, 2000, 2500, 3000],\n",
    "            'learning': [0.2, 0.1, 0.07, 0.05]\n",
    "           }\n",
    "KfoldsCrossValidation(np.array(Xinput), np.array(Data['label']), np.array(genres), myparams, 3, True)"
   ]
  },
  {
   "cell_type": "markdown",
   "metadata": {},
   "source": [
    "### 1 capa intermedia"
   ]
  },
  {
   "cell_type": "code",
   "execution_count": 168,
   "metadata": {},
   "outputs": [
    {
     "name": "stdout",
     "output_type": "stream",
     "text": [
      "Tasa de aprendizaje: 0.2, épocas: 1000 Average acc: 0.2600055144965325\n",
      "Tasa de aprendizaje: 0.2, épocas: 1500 Average acc: 0.2750145354935774\n",
      "Tasa de aprendizaje: 0.2, épocas: 2000 Average acc: 0.31198563833294374\n",
      "Tasa de aprendizaje: 0.2, épocas: 2500 Average acc: 0.2720085354815894\n",
      "Tasa de aprendizaje: 0.2, épocas: 3000 Average acc: 0.27299754844665025\n",
      "Tasa de aprendizaje: 0.1, épocas: 1000 Average acc: 0.46094897292502085\n",
      "Tasa de aprendizaje: 0.1, épocas: 1500 Average acc: 0.4319589050127972\n",
      "Tasa de aprendizaje: 0.1, épocas: 2000 Average acc: 0.4569419719120318\n",
      "Tasa de aprendizaje: 0.1, épocas: 2500 Average acc: 0.43898389407371446\n",
      "Tasa de aprendizaje: 0.1, épocas: 3000 Average acc: 0.4539689389988791\n",
      "Tasa de aprendizaje: 0.07, épocas: 1000 Average acc: 0.5659881438324552\n",
      "Tasa de aprendizaje: 0.07, épocas: 1500 Average acc: 0.5620141099183016\n",
      "Tasa de aprendizaje: 0.07, épocas: 2000 Average acc: 0.5740051428674183\n",
      "Tasa de aprendizaje: 0.07, épocas: 2500 Average acc: 0.5499601397804991\n",
      "Tasa de aprendizaje: 0.07, épocas: 3000 Average acc: 0.524024024024024\n",
      "Tasa de aprendizaje: 0.05, épocas: 1000 Average acc: 0.582981184777592\n",
      "Tasa de aprendizaje: 0.05, épocas: 1500 Average acc: 0.5640191089292886\n",
      "Tasa de aprendizaje: 0.05, épocas: 2000 Average acc: 0.5529931128733524\n",
      "Tasa de aprendizaje: 0.05, épocas: 2500 Average acc: 0.5670071268873663\n",
      "Tasa de aprendizaje: 0.05, épocas: 3000 Average acc: 0.5540270809731888\n",
      "Results\n",
      "Best learning rate: 0.05\n",
      "Best Nro epochs: 1000\n",
      "Best Average Accuracy: 0.582981184777592\n"
     ]
    }
   ],
   "source": [
    "myparams['layers'] = [Xinput.shape[1],10,genres.shape[1]]\n",
    "KfoldsCrossValidation(np.array(Xinput), np.array(Data['label']), np.array(genres), myparams, 3, True)"
   ]
  },
  {
   "cell_type": "markdown",
   "metadata": {},
   "source": [
    "### 2 capas intermedias"
   ]
  },
  {
   "cell_type": "code",
   "execution_count": 162,
   "metadata": {},
   "outputs": [
    {
     "name": "stdout",
     "output_type": "stream",
     "text": [
      "Tasa de aprendizaje: 0.2, épocas: 1000 Average acc: 0.26702750654846463\n",
      "Tasa de aprendizaje: 0.2, épocas: 1500 Average acc: 0.24694454933975893\n",
      "Tasa de aprendizaje: 0.2, épocas: 2000 Average acc: 0.3059976143808479\n",
      "Tasa de aprendizaje: 0.2, épocas: 2500 Average acc: 0.2560164955374536\n",
      "Tasa de aprendizaje: 0.2, épocas: 3000 Average acc: 0.25301648954343564\n",
      "Tasa de aprendizaje: 0.1, épocas: 1000 Average acc: 0.3280016543489597\n",
      "Tasa de aprendizaje: 0.1, épocas: 1500 Average acc: 0.34204264144383906\n",
      "Tasa de aprendizaje: 0.1, épocas: 2000 Average acc: 0.34893576210941485\n",
      "Tasa de aprendizaje: 0.1, épocas: 2500 Average acc: 0.36602171033308756\n",
      "Tasa de aprendizaje: 0.1, épocas: 3000 Average acc: 0.32398865931800064\n",
      "Tasa de aprendizaje: 0.07, épocas: 1000 Average acc: 0.3710087332841823\n",
      "Tasa de aprendizaje: 0.07, épocas: 1500 Average acc: 0.3819717921514329\n",
      "Tasa de aprendizaje: 0.07, épocas: 2000 Average acc: 0.384986783190376\n",
      "Tasa de aprendizaje: 0.07, épocas: 2500 Average acc: 0.36902771034507564\n",
      "Tasa de aprendizaje: 0.07, épocas: 3000 Average acc: 0.3810007612402822\n",
      "Tasa de aprendizaje: 0.05, épocas: 1000 Average acc: 0.4319948691206177\n",
      "Tasa de aprendizaje: 0.05, épocas: 1500 Average acc: 0.412010813208418\n",
      "Tasa de aprendizaje: 0.05, épocas: 2000 Average acc: 0.45497593401785025\n",
      "Tasa de aprendizaje: 0.05, épocas: 2500 Average acc: 0.4170338002673332\n",
      "Tasa de aprendizaje: 0.05, épocas: 3000 Average acc: 0.44697691703679726\n",
      "Results\n",
      "Best learning rate: 0.05\n",
      "Best Nro epochs: 2000\n",
      "Best Average Accuracy: 0.45497593401785025\n"
     ]
    }
   ],
   "source": [
    "myparams['layers'] = [Xinput.shape[1],10,10,genres.shape[1]]\n",
    "KfoldsCrossValidation(np.array(Xinput), np.array(Data['label']), np.array(genres), myparams, 3, True)"
   ]
  },
  {
   "cell_type": "markdown",
   "metadata": {},
   "source": [
    "### 3 capas intermedias"
   ]
  },
  {
   "cell_type": "code",
   "execution_count": 163,
   "metadata": {},
   "outputs": [
    {
     "name": "stdout",
     "output_type": "stream",
     "text": [
      "Tasa de aprendizaje: 0.2, épocas: 1000 Average acc: 0.1289463115810421\n",
      "Tasa de aprendizaje: 0.2, épocas: 1500 Average acc: 0.10800620980261699\n",
      "Tasa de aprendizaje: 0.2, épocas: 2000 Average acc: 0.10099920279560998\n",
      "Tasa de aprendizaje: 0.2, épocas: 2500 Average acc: 0.14003824183464902\n",
      "Tasa de aprendizaje: 0.2, épocas: 3000 Average acc: 0.130936325547104\n",
      "Tasa de aprendizaje: 0.1, épocas: 1000 Average acc: 0.4450228671785558\n",
      "Tasa de aprendizaje: 0.1, épocas: 1500 Average acc: 0.4609789430148712\n",
      "Tasa de aprendizaje: 0.1, épocas: 2000 Average acc: 0.46699094303884725\n",
      "Tasa de aprendizaje: 0.1, épocas: 2500 Average acc: 0.44404284524045007\n",
      "Tasa de aprendizaje: 0.1, épocas: 3000 Average acc: 0.45800291309273344\n",
      "Tasa de aprendizaje: 0.07, épocas: 1000 Average acc: 0.43901086715457965\n",
      "Tasa de aprendizaje: 0.07, épocas: 1500 Average acc: 0.45898892904880934\n",
      "Tasa de aprendizaje: 0.07, épocas: 2000 Average acc: 0.4519789250328172\n",
      "Tasa de aprendizaje: 0.07, épocas: 2500 Average acc: 0.4579969190747634\n",
      "Tasa de aprendizaje: 0.07, épocas: 3000 Average acc: 0.48400496304687923\n",
      "Tasa de aprendizaje: 0.05, épocas: 1000 Average acc: 0.47397697098295904\n",
      "Tasa de aprendizaje: 0.05, épocas: 1500 Average acc: 0.5179790569012126\n",
      "Tasa de aprendizaje: 0.05, épocas: 2000 Average acc: 0.5089910269550989\n",
      "Tasa de aprendizaje: 0.05, épocas: 2500 Average acc: 0.5080080080080079\n",
      "Tasa de aprendizaje: 0.05, épocas: 3000 Average acc: 0.48898299497101894\n",
      "Results\n",
      "Best learning rate: 0.05\n",
      "Best Nro epochs: 1500\n",
      "Best Average Accuracy: 0.5179790569012126\n"
     ]
    }
   ],
   "source": [
    "myparams['layers'] = [Xinput.shape[1],10, 10, 10, genres.shape[1]]\n",
    "KfoldsCrossValidation(np.array(Xinput), np.array(Data['label']), np.array(genres), myparams, 3, True)"
   ]
  },
  {
   "cell_type": "markdown",
   "metadata": {},
   "source": [
    "### 4 capas intermedias"
   ]
  },
  {
   "cell_type": "code",
   "execution_count": 165,
   "metadata": {},
   "outputs": [
    {
     "name": "stdout",
     "output_type": "stream",
     "text": [
      "Tasa de aprendizaje: 0.2, épocas: 1000 Average acc: 0.10000119880359402\n",
      "Tasa de aprendizaje: 0.2, épocas: 1500 Average acc: 0.10099920279560998\n",
      "Tasa de aprendizaje: 0.2, épocas: 2000 Average acc: 0.10099920279560999\n",
      "Tasa de aprendizaje: 0.2, épocas: 2500 Average acc: 0.10100219980459502\n",
      "Tasa de aprendizaje: 0.2, épocas: 3000 Average acc: 0.099000197802593\n",
      "Tasa de aprendizaje: 0.1, épocas: 1000 Average acc: 0.4219908531285777\n",
      "Tasa de aprendizaje: 0.1, épocas: 1500 Average acc: 0.3089916263568958\n",
      "Tasa de aprendizaje: 0.1, épocas: 2000 Average acc: 0.3969568370765975\n",
      "Tasa de aprendizaje: 0.1, épocas: 2500 Average acc: 0.4290068511625398\n",
      "Tasa de aprendizaje: 0.1, épocas: 3000 Average acc: 0.334034633435831\n",
      "Tasa de aprendizaje: 0.07, épocas: 1000 Average acc: 0.5169990349631068\n",
      "Tasa de aprendizaje: 0.07, épocas: 1500 Average acc: 0.44197490904077724\n",
      "Tasa de aprendizaje: 0.07, épocas: 2000 Average acc: 0.45299491107874346\n",
      "Tasa de aprendizaje: 0.07, épocas: 2500 Average acc: 0.46697296098493707\n",
      "Tasa de aprendizaje: 0.07, épocas: 3000 Average acc: 0.4709439978901057\n",
      "Tasa de aprendizaje: 0.05, épocas: 1000 Average acc: 0.5129770489051926\n",
      "Tasa de aprendizaje: 0.05, épocas: 1500 Average acc: 0.5100459741178304\n",
      "Tasa de aprendizaje: 0.05, épocas: 2000 Average acc: 0.5059820299341258\n",
      "Tasa de aprendizaje: 0.05, épocas: 2500 Average acc: 0.4819939700179221\n",
      "Tasa de aprendizaje: 0.05, épocas: 3000 Average acc: 0.4919800039560518\n",
      "Results\n",
      "Best learning rate: 0.07\n",
      "Best Nro epochs: 1000\n",
      "Best Average Accuracy: 0.5169990349631068\n"
     ]
    }
   ],
   "source": [
    "myparams['layers'] = [Xinput.shape[1], 10, 10, 10, 10, genres.shape[1]]\n",
    "KfoldsCrossValidation(np.array(Xinput), np.array(Data['label']), np.array(genres), myparams, 3, True)"
   ]
  },
  {
   "cell_type": "markdown",
   "metadata": {},
   "source": [
    "# Clasificación Titanic"
   ]
  },
  {
   "cell_type": "code",
   "execution_count": 12,
   "metadata": {},
   "outputs": [
    {
     "name": "stdout",
     "output_type": "stream",
     "text": [
      "<class 'pandas.core.frame.DataFrame'>\n",
      "RangeIndex: 891 entries, 0 to 890\n",
      "Data columns (total 13 columns):\n",
      " #   Column      Non-Null Count  Dtype  \n",
      "---  ------      --------------  -----  \n",
      " 0   Survived    891 non-null    object \n",
      " 1   Age         891 non-null    float64\n",
      " 2   SibSp       891 non-null    int64  \n",
      " 3   Parch       891 non-null    int64  \n",
      " 4   Fare        891 non-null    float64\n",
      " 5   Sex_female  891 non-null    uint8  \n",
      " 6   Sex_male    891 non-null    uint8  \n",
      " 7   Embarked_C  891 non-null    uint8  \n",
      " 8   Embarked_Q  891 non-null    uint8  \n",
      " 9   Embarked_S  891 non-null    uint8  \n",
      " 10  Pclass_1    891 non-null    uint8  \n",
      " 11  Pclass_2    891 non-null    uint8  \n",
      " 12  Pclass_3    891 non-null    uint8  \n",
      "dtypes: float64(2), int64(2), object(1), uint8(8)\n",
      "memory usage: 41.9+ KB\n"
     ]
    }
   ],
   "source": [
    "# leo los datos\n",
    "TitanicData = pd.read_csv('titanic_train.csv')\n",
    "TitanicData = TitanicData[['Pclass', 'Survived', 'Sex', 'Age', 'SibSp', 'Parch', 'Fare', 'Embarked']]\n",
    "# convertimos a strings las siguientes columnas para hacer el OneHot encoding\n",
    "TitanicData['Survived'] = TitanicData['Survived'].apply(str)\n",
    "TitanicData['Pclass'] = TitanicData['Pclass'].apply(str)\n",
    "age_mean = TitanicData[\"Age\"].mean()\n",
    "TitanicData['Age'].fillna(age_mean, inplace = True)\n",
    "TitanicData['Embarked'].fillna('S', inplace = True)\n",
    "# Passenger class(Pclass): 1 = 1st, 2 = 2nd, 3 = 3rd\n",
    "# Puertos de embarque(Embarked): C = Cherbourg, Q = Queenstown, S = Southampton\n",
    "# Sexo(Sex): Male, Female\n",
    "TitanicData = pd.get_dummies(TitanicData, columns=['Sex', 'Embarked', 'Pclass'])\n",
    "TitanicData.info()\n",
    "#print(TitanicData['SibSp'].value_counts())\n",
    "#print(TitanicData['Parch'].value_counts())\n",
    "#print(TitanicData['Embarked'].value_counts())"
   ]
  },
  {
   "cell_type": "markdown",
   "metadata": {},
   "source": [
    "# Preprocesamiento de la data"
   ]
  },
  {
   "cell_type": "code",
   "execution_count": 13,
   "metadata": {},
   "outputs": [
    {
     "name": "stdout",
     "output_type": "stream",
     "text": [
      "<class 'pandas.core.frame.DataFrame'>\n",
      "RangeIndex: 891 entries, 0 to 890\n",
      "Data columns (total 12 columns):\n",
      " #   Column      Non-Null Count  Dtype  \n",
      "---  ------      --------------  -----  \n",
      " 0   Age         891 non-null    float64\n",
      " 1   SibSp       891 non-null    int64  \n",
      " 2   Parch       891 non-null    int64  \n",
      " 3   Fare        891 non-null    float64\n",
      " 4   Sex_female  891 non-null    uint8  \n",
      " 5   Sex_male    891 non-null    uint8  \n",
      " 6   Embarked_C  891 non-null    uint8  \n",
      " 7   Embarked_Q  891 non-null    uint8  \n",
      " 8   Embarked_S  891 non-null    uint8  \n",
      " 9   Pclass_1    891 non-null    uint8  \n",
      " 10  Pclass_2    891 non-null    uint8  \n",
      " 11  Pclass_3    891 non-null    uint8  \n",
      "dtypes: float64(2), int64(2), uint8(8)\n",
      "memory usage: 34.9 KB\n"
     ]
    }
   ],
   "source": [
    "# convertiremos el campo Survived a codificación one hot, ya que será el valor para nuestra clasificación\n",
    "# Survived: 0 = No, 1 = Yes\n",
    "survived = pd.get_dummies(TitanicData['Survived'])\n",
    "Xinput = TitanicData.drop(['Survived'], axis=1)\n",
    "Xinput.info()"
   ]
  },
  {
   "cell_type": "code",
   "execution_count": 14,
   "metadata": {},
   "outputs": [
    {
     "data": {
      "text/html": [
       "<div>\n",
       "<style scoped>\n",
       "    .dataframe tbody tr th:only-of-type {\n",
       "        vertical-align: middle;\n",
       "    }\n",
       "\n",
       "    .dataframe tbody tr th {\n",
       "        vertical-align: top;\n",
       "    }\n",
       "\n",
       "    .dataframe thead th {\n",
       "        text-align: right;\n",
       "    }\n",
       "</style>\n",
       "<table border=\"1\" class=\"dataframe\">\n",
       "  <thead>\n",
       "    <tr style=\"text-align: right;\">\n",
       "      <th></th>\n",
       "      <th>Age</th>\n",
       "      <th>SibSp</th>\n",
       "      <th>Parch</th>\n",
       "      <th>Fare</th>\n",
       "      <th>Sex_female</th>\n",
       "      <th>Sex_male</th>\n",
       "      <th>Embarked_C</th>\n",
       "      <th>Embarked_Q</th>\n",
       "      <th>Embarked_S</th>\n",
       "      <th>Pclass_1</th>\n",
       "      <th>Pclass_2</th>\n",
       "      <th>Pclass_3</th>\n",
       "    </tr>\n",
       "  </thead>\n",
       "  <tbody>\n",
       "    <tr>\n",
       "      <th>0</th>\n",
       "      <td>-0.592148</td>\n",
       "      <td>0.432550</td>\n",
       "      <td>-0.473408</td>\n",
       "      <td>-0.502163</td>\n",
       "      <td>-0.737281</td>\n",
       "      <td>0.737281</td>\n",
       "      <td>-0.481772</td>\n",
       "      <td>-0.30739</td>\n",
       "      <td>0.615493</td>\n",
       "      <td>-0.565368</td>\n",
       "      <td>-0.509865</td>\n",
       "      <td>0.902081</td>\n",
       "    </tr>\n",
       "    <tr>\n",
       "      <th>1</th>\n",
       "      <td>0.638430</td>\n",
       "      <td>0.432550</td>\n",
       "      <td>-0.473408</td>\n",
       "      <td>0.786404</td>\n",
       "      <td>1.354813</td>\n",
       "      <td>-1.354813</td>\n",
       "      <td>2.073341</td>\n",
       "      <td>-0.30739</td>\n",
       "      <td>-1.622891</td>\n",
       "      <td>1.766775</td>\n",
       "      <td>-0.509865</td>\n",
       "      <td>-1.107304</td>\n",
       "    </tr>\n",
       "    <tr>\n",
       "      <th>2</th>\n",
       "      <td>-0.284503</td>\n",
       "      <td>-0.474279</td>\n",
       "      <td>-0.473408</td>\n",
       "      <td>-0.488580</td>\n",
       "      <td>1.354813</td>\n",
       "      <td>-1.354813</td>\n",
       "      <td>-0.481772</td>\n",
       "      <td>-0.30739</td>\n",
       "      <td>0.615493</td>\n",
       "      <td>-0.565368</td>\n",
       "      <td>-0.509865</td>\n",
       "      <td>0.902081</td>\n",
       "    </tr>\n",
       "    <tr>\n",
       "      <th>3</th>\n",
       "      <td>0.407697</td>\n",
       "      <td>0.432550</td>\n",
       "      <td>-0.473408</td>\n",
       "      <td>0.420494</td>\n",
       "      <td>1.354813</td>\n",
       "      <td>-1.354813</td>\n",
       "      <td>-0.481772</td>\n",
       "      <td>-0.30739</td>\n",
       "      <td>0.615493</td>\n",
       "      <td>1.766775</td>\n",
       "      <td>-0.509865</td>\n",
       "      <td>-1.107304</td>\n",
       "    </tr>\n",
       "    <tr>\n",
       "      <th>4</th>\n",
       "      <td>0.407697</td>\n",
       "      <td>-0.474279</td>\n",
       "      <td>-0.473408</td>\n",
       "      <td>-0.486064</td>\n",
       "      <td>-0.737281</td>\n",
       "      <td>0.737281</td>\n",
       "      <td>-0.481772</td>\n",
       "      <td>-0.30739</td>\n",
       "      <td>0.615493</td>\n",
       "      <td>-0.565368</td>\n",
       "      <td>-0.509865</td>\n",
       "      <td>0.902081</td>\n",
       "    </tr>\n",
       "  </tbody>\n",
       "</table>\n",
       "</div>"
      ],
      "text/plain": [
       "        Age     SibSp     Parch      Fare  Sex_female  Sex_male  Embarked_C  \\\n",
       "0 -0.592148  0.432550 -0.473408 -0.502163   -0.737281  0.737281   -0.481772   \n",
       "1  0.638430  0.432550 -0.473408  0.786404    1.354813 -1.354813    2.073341   \n",
       "2 -0.284503 -0.474279 -0.473408 -0.488580    1.354813 -1.354813   -0.481772   \n",
       "3  0.407697  0.432550 -0.473408  0.420494    1.354813 -1.354813   -0.481772   \n",
       "4  0.407697 -0.474279 -0.473408 -0.486064   -0.737281  0.737281   -0.481772   \n",
       "\n",
       "   Embarked_Q  Embarked_S  Pclass_1  Pclass_2  Pclass_3  \n",
       "0    -0.30739    0.615493 -0.565368 -0.509865  0.902081  \n",
       "1    -0.30739   -1.622891  1.766775 -0.509865 -1.107304  \n",
       "2    -0.30739    0.615493 -0.565368 -0.509865  0.902081  \n",
       "3    -0.30739    0.615493  1.766775 -0.509865 -1.107304  \n",
       "4    -0.30739    0.615493 -0.565368 -0.509865  0.902081  "
      ]
     },
     "execution_count": 14,
     "metadata": {},
     "output_type": "execute_result"
    }
   ],
   "source": [
    "# aplicando la normalización de los datos\n",
    "Xinput, mediaXinput, stdXinput = normalize(Xinput)\n",
    "Xinput.head()"
   ]
  },
  {
   "cell_type": "code",
   "execution_count": 15,
   "metadata": {},
   "outputs": [
    {
     "name": "stdout",
     "output_type": "stream",
     "text": [
      "(891, 12)\n",
      "(891, 2)\n"
     ]
    }
   ],
   "source": [
    "print(Xinput.shape)\n",
    "print(survived.shape)\n"
   ]
  },
  {
   "cell_type": "markdown",
   "metadata": {},
   "source": [
    "## K-folds cross validation\n",
    "### 0 capas intermedias"
   ]
  },
  {
   "cell_type": "code",
   "execution_count": 16,
   "metadata": {},
   "outputs": [
    {
     "ename": "NameError",
     "evalue": "name 'KfoldsCrossValidation' is not defined",
     "output_type": "error",
     "traceback": [
      "\u001b[0;31m---------------------------------------------------------------------------\u001b[0m",
      "\u001b[0;31mNameError\u001b[0m                                 Traceback (most recent call last)",
      "\u001b[0;32m<ipython-input-16-6a1320b54f13>\u001b[0m in \u001b[0;36m<module>\u001b[0;34m\u001b[0m\n\u001b[1;32m      4\u001b[0m             \u001b[0;34m'learning'\u001b[0m\u001b[0;34m:\u001b[0m \u001b[0;34m[\u001b[0m\u001b[0;36m0.2\u001b[0m\u001b[0;34m,\u001b[0m \u001b[0;36m0.1\u001b[0m\u001b[0;34m,\u001b[0m \u001b[0;36m0.07\u001b[0m\u001b[0;34m,\u001b[0m \u001b[0;36m0.05\u001b[0m\u001b[0;34m]\u001b[0m\u001b[0;34m\u001b[0m\u001b[0;34m\u001b[0m\u001b[0m\n\u001b[1;32m      5\u001b[0m            }\n\u001b[0;32m----> 6\u001b[0;31m \u001b[0mKfoldsCrossValidation\u001b[0m\u001b[0;34m(\u001b[0m\u001b[0mnp\u001b[0m\u001b[0;34m.\u001b[0m\u001b[0marray\u001b[0m\u001b[0;34m(\u001b[0m\u001b[0mXinput\u001b[0m\u001b[0;34m)\u001b[0m\u001b[0;34m,\u001b[0m \u001b[0mnp\u001b[0m\u001b[0;34m.\u001b[0m\u001b[0marray\u001b[0m\u001b[0;34m(\u001b[0m\u001b[0mTitanicData\u001b[0m\u001b[0;34m[\u001b[0m\u001b[0;34m'Survived'\u001b[0m\u001b[0;34m]\u001b[0m\u001b[0;34m)\u001b[0m\u001b[0;34m,\u001b[0m \u001b[0mnp\u001b[0m\u001b[0;34m.\u001b[0m\u001b[0marray\u001b[0m\u001b[0;34m(\u001b[0m\u001b[0msurvived\u001b[0m\u001b[0;34m)\u001b[0m\u001b[0;34m,\u001b[0m \u001b[0mmyparams\u001b[0m\u001b[0;34m,\u001b[0m \u001b[0;36m3\u001b[0m\u001b[0;34m,\u001b[0m \u001b[0;32mTrue\u001b[0m\u001b[0;34m)\u001b[0m\u001b[0;34m\u001b[0m\u001b[0;34m\u001b[0m\u001b[0m\n\u001b[0m",
      "\u001b[0;31mNameError\u001b[0m: name 'KfoldsCrossValidation' is not defined"
     ]
    }
   ],
   "source": [
    "myparams = {\n",
    "            'layers': [Xinput.shape[1],survived.shape[1]],\n",
    "            'epochs': [1000, 1500, 2000, 2500, 3000],\n",
    "            'learning': [0.2, 0.1, 0.07, 0.05]\n",
    "           }\n",
    "KfoldsCrossValidation(np.array(Xinput), np.array(TitanicData['Survived']), np.array(survived), myparams, 3, True)"
   ]
  },
  {
   "cell_type": "markdown",
   "metadata": {},
   "source": [
    "### 1 capa intermedia"
   ]
  },
  {
   "cell_type": "code",
   "execution_count": 57,
   "metadata": {},
   "outputs": [
    {
     "name": "stdout",
     "output_type": "stream",
     "text": [
      "Tasa de aprendizaje: 0.2, épocas: 1000 Average acc: 0.7878787878787877\n",
      "Tasa de aprendizaje: 0.2, épocas: 1500 Average acc: 0.7833894500561168\n",
      "Tasa de aprendizaje: 0.2, épocas: 2000 Average acc: 0.7822671156004489\n",
      "Tasa de aprendizaje: 0.2, épocas: 2500 Average acc: 0.7946127946127945\n",
      "Tasa de aprendizaje: 0.2, épocas: 3000 Average acc: 0.7744107744107743\n",
      "Tasa de aprendizaje: 0.1, épocas: 1000 Average acc: 0.7744107744107743\n",
      "Tasa de aprendizaje: 0.1, épocas: 1500 Average acc: 0.7912457912457912\n",
      "Tasa de aprendizaje: 0.1, épocas: 2000 Average acc: 0.7699214365881032\n",
      "Tasa de aprendizaje: 0.1, épocas: 2500 Average acc: 0.7901234567901235\n",
      "Tasa de aprendizaje: 0.1, épocas: 3000 Average acc: 0.7968574635241302\n",
      "Tasa de aprendizaje: 0.07, épocas: 1000 Average acc: 0.7845117845117845\n",
      "Tasa de aprendizaje: 0.07, épocas: 1500 Average acc: 0.8058361391694725\n",
      "Tasa de aprendizaje: 0.07, épocas: 2000 Average acc: 0.787878787878788\n",
      "Tasa de aprendizaje: 0.07, épocas: 2500 Average acc: 0.7901234567901234\n",
      "Tasa de aprendizaje: 0.07, épocas: 3000 Average acc: 0.7744107744107745\n",
      "Tasa de aprendizaje: 0.05, épocas: 1000 Average acc: 0.7878787878787877\n",
      "Tasa de aprendizaje: 0.05, épocas: 1500 Average acc: 0.7946127946127947\n",
      "Tasa de aprendizaje: 0.05, épocas: 2000 Average acc: 0.7934904601571269\n",
      "Tasa de aprendizaje: 0.05, épocas: 2500 Average acc: 0.7699214365881032\n",
      "Tasa de aprendizaje: 0.05, épocas: 3000 Average acc: 0.7923681257014591\n",
      "Results\n",
      "Best learning rate: 0.07\n",
      "Best Nro epochs: 1500\n",
      "Best Average Accuracy: 0.8058361391694725\n"
     ]
    }
   ],
   "source": [
    "myparams['layers'] = [Xinput.shape[1], 10,survived.shape[1]]\n",
    "KfoldsCrossValidation(np.array(Xinput), np.array(TitanicData['Survived']), np.array(survived), myparams, 3, True)"
   ]
  },
  {
   "cell_type": "markdown",
   "metadata": {},
   "source": [
    "### 2 capas intermedias "
   ]
  },
  {
   "cell_type": "code",
   "execution_count": 58,
   "metadata": {},
   "outputs": [
    {
     "name": "stdout",
     "output_type": "stream",
     "text": [
      "Tasa de aprendizaje: 0.2, épocas: 1000 Average acc: 0.7777777777777778\n",
      "Tasa de aprendizaje: 0.2, épocas: 1500 Average acc: 0.7699214365881032\n",
      "Tasa de aprendizaje: 0.2, épocas: 2000 Average acc: 0.7631874298540966\n",
      "Tasa de aprendizaje: 0.2, épocas: 2500 Average acc: 0.7923681257014591\n",
      "Tasa de aprendizaje: 0.2, épocas: 3000 Average acc: 0.7912457912457912\n",
      "Tasa de aprendizaje: 0.1, épocas: 1000 Average acc: 0.8114478114478114\n",
      "Tasa de aprendizaje: 0.1, épocas: 1500 Average acc: 0.7822671156004489\n",
      "Tasa de aprendizaje: 0.1, épocas: 2000 Average acc: 0.7710437710437711\n",
      "Tasa de aprendizaje: 0.1, épocas: 2500 Average acc: 0.7609427609427609\n",
      "Tasa de aprendizaje: 0.1, épocas: 3000 Average acc: 0.7856341189674523\n",
      "Tasa de aprendizaje: 0.07, épocas: 1000 Average acc: 0.7845117845117846\n",
      "Tasa de aprendizaje: 0.07, épocas: 1500 Average acc: 0.7744107744107743\n",
      "Tasa de aprendizaje: 0.07, épocas: 2000 Average acc: 0.7833894500561168\n",
      "Tasa de aprendizaje: 0.07, épocas: 2500 Average acc: 0.7800224466891134\n",
      "Tasa de aprendizaje: 0.07, épocas: 3000 Average acc: 0.7755331088664422\n",
      "Tasa de aprendizaje: 0.05, épocas: 1000 Average acc: 0.7912457912457912\n",
      "Tasa de aprendizaje: 0.05, épocas: 1500 Average acc: 0.7934904601571268\n",
      "Tasa de aprendizaje: 0.05, épocas: 2000 Average acc: 0.7991021324354657\n",
      "Tasa de aprendizaje: 0.05, épocas: 2500 Average acc: 0.7946127946127947\n",
      "Tasa de aprendizaje: 0.05, épocas: 3000 Average acc: 0.77665544332211\n",
      "Results\n",
      "Best learning rate: 0.1\n",
      "Best Nro epochs: 1000\n",
      "Best Average Accuracy: 0.8114478114478114\n"
     ]
    }
   ],
   "source": [
    "myparams['layers'] = [Xinput.shape[1], 10, 10,survived.shape[1]]\n",
    "KfoldsCrossValidation(np.array(Xinput), np.array(TitanicData['Survived']), np.array(survived), myparams, 3, True)"
   ]
  },
  {
   "cell_type": "markdown",
   "metadata": {},
   "source": [
    "### 3 capas intermedias "
   ]
  },
  {
   "cell_type": "code",
   "execution_count": 59,
   "metadata": {},
   "outputs": [
    {
     "name": "stdout",
     "output_type": "stream",
     "text": [
      "Tasa de aprendizaje: 0.2, épocas: 1000 Average acc: 0.3838383838383838\n",
      "Tasa de aprendizaje: 0.2, épocas: 1500 Average acc: 0.8080808080808081\n",
      "Tasa de aprendizaje: 0.2, épocas: 2000 Average acc: 0.7811447811447811\n",
      "Tasa de aprendizaje: 0.2, épocas: 2500 Average acc: 0.7923681257014591\n",
      "Tasa de aprendizaje: 0.2, épocas: 3000 Average acc: 0.7979797979797979\n",
      "Tasa de aprendizaje: 0.1, épocas: 1000 Average acc: 0.7878787878787877\n",
      "Tasa de aprendizaje: 0.1, épocas: 1500 Average acc: 0.7811447811447811\n",
      "Tasa de aprendizaje: 0.1, épocas: 2000 Average acc: 0.7923681257014591\n",
      "Tasa de aprendizaje: 0.1, épocas: 2500 Average acc: 0.7822671156004489\n",
      "Tasa de aprendizaje: 0.1, épocas: 3000 Average acc: 0.7755331088664422\n",
      "Tasa de aprendizaje: 0.07, épocas: 1000 Average acc: 0.7934904601571269\n",
      "Tasa de aprendizaje: 0.07, épocas: 1500 Average acc: 0.7912457912457912\n",
      "Tasa de aprendizaje: 0.07, épocas: 2000 Average acc: 0.7732884399551067\n",
      "Tasa de aprendizaje: 0.07, épocas: 2500 Average acc: 0.7800224466891134\n",
      "Tasa de aprendizaje: 0.07, épocas: 3000 Average acc: 0.7946127946127947\n",
      "Tasa de aprendizaje: 0.05, épocas: 1000 Average acc: 0.7923681257014591\n",
      "Tasa de aprendizaje: 0.05, épocas: 1500 Average acc: 0.7766554433221099\n",
      "Tasa de aprendizaje: 0.05, épocas: 2000 Average acc: 0.7856341189674523\n",
      "Tasa de aprendizaje: 0.05, épocas: 2500 Average acc: 0.7676767676767676\n",
      "Tasa de aprendizaje: 0.05, épocas: 3000 Average acc: 0.7777777777777778\n",
      "Results\n",
      "Best learning rate: 0.2\n",
      "Best Nro epochs: 1500\n",
      "Best Average Accuracy: 0.8080808080808081\n"
     ]
    }
   ],
   "source": [
    "myparams['layers'] = [Xinput.shape[1], 10, 10, 10, survived.shape[1]]\n",
    "KfoldsCrossValidation(np.array(Xinput), np.array(TitanicData['Survived']), np.array(survived), myparams, 3, True)"
   ]
  },
  {
   "cell_type": "markdown",
   "metadata": {},
   "source": [
    "### 4 capas intermedias"
   ]
  },
  {
   "cell_type": "code",
   "execution_count": 60,
   "metadata": {},
   "outputs": [
    {
     "name": "stdout",
     "output_type": "stream",
     "text": [
      "Tasa de aprendizaje: 0.2, épocas: 1000 Average acc: 0.6161616161616161\n",
      "Tasa de aprendizaje: 0.2, épocas: 1500 Average acc: 0.7272727272727272\n",
      "Tasa de aprendizaje: 0.2, épocas: 2000 Average acc: 0.7811447811447811\n",
      "Tasa de aprendizaje: 0.2, épocas: 2500 Average acc: 0.734006734006734\n",
      "Tasa de aprendizaje: 0.2, épocas: 3000 Average acc: 0.6711560044893378\n",
      "Tasa de aprendizaje: 0.1, épocas: 1000 Average acc: 0.8002244668911335\n",
      "Tasa de aprendizaje: 0.1, épocas: 1500 Average acc: 0.7934904601571269\n",
      "Tasa de aprendizaje: 0.1, épocas: 2000 Average acc: 0.7789001122334455\n",
      "Tasa de aprendizaje: 0.1, épocas: 2500 Average acc: 0.7822671156004489\n",
      "Tasa de aprendizaje: 0.1, épocas: 3000 Average acc: 0.7845117845117845\n",
      "Tasa de aprendizaje: 0.07, épocas: 1000 Average acc: 0.7934904601571269\n",
      "Tasa de aprendizaje: 0.07, épocas: 1500 Average acc: 0.7800224466891134\n",
      "Tasa de aprendizaje: 0.07, épocas: 2000 Average acc: 0.7833894500561168\n",
      "Tasa de aprendizaje: 0.07, épocas: 2500 Average acc: 0.7946127946127947\n",
      "Tasa de aprendizaje: 0.07, épocas: 3000 Average acc: 0.7631874298540965\n",
      "Tasa de aprendizaje: 0.05, épocas: 1000 Average acc: 0.7845117845117845\n",
      "Tasa de aprendizaje: 0.05, épocas: 1500 Average acc: 0.7923681257014591\n",
      "Tasa de aprendizaje: 0.05, épocas: 2000 Average acc: 0.8013468013468014\n",
      "Tasa de aprendizaje: 0.05, épocas: 2500 Average acc: 0.787878787878788\n",
      "Tasa de aprendizaje: 0.05, épocas: 3000 Average acc: 0.8092031425364757\n",
      "Results\n",
      "Best learning rate: 0.05\n",
      "Best Nro epochs: 3000\n",
      "Best Average Accuracy: 0.8092031425364757\n"
     ]
    }
   ],
   "source": [
    "myparams['layers'] = [Xinput.shape[1], 10, 10, 10, 10, survived.shape[1]]\n",
    "KfoldsCrossValidation(np.array(Xinput), np.array(TitanicData['Survived']), np.array(survived), myparams, 3, True)"
   ]
  },
  {
   "cell_type": "markdown",
   "metadata": {},
   "source": [
    "# SVM"
   ]
  },
  {
   "cell_type": "code",
   "execution_count": 38,
   "metadata": {},
   "outputs": [],
   "source": [
    "from sklearn import svm\n",
    "from sklearn.metrics import mean_squared_error, r2_score"
   ]
  },
  {
   "cell_type": "code",
   "execution_count": 39,
   "metadata": {},
   "outputs": [
    {
     "name": "stdout",
     "output_type": "stream",
     "text": [
      "<class 'pandas.core.frame.DataFrame'>\n",
      "RangeIndex: 891 entries, 0 to 890\n",
      "Data columns (total 13 columns):\n",
      " #   Column      Non-Null Count  Dtype  \n",
      "---  ------      --------------  -----  \n",
      " 0   Survived    891 non-null    object \n",
      " 1   Age         891 non-null    float64\n",
      " 2   SibSp       891 non-null    int64  \n",
      " 3   Parch       891 non-null    int64  \n",
      " 4   Fare        891 non-null    float64\n",
      " 5   Sex_female  891 non-null    uint8  \n",
      " 6   Sex_male    891 non-null    uint8  \n",
      " 7   Embarked_C  891 non-null    uint8  \n",
      " 8   Embarked_Q  891 non-null    uint8  \n",
      " 9   Embarked_S  891 non-null    uint8  \n",
      " 10  Pclass_1    891 non-null    uint8  \n",
      " 11  Pclass_2    891 non-null    uint8  \n",
      " 12  Pclass_3    891 non-null    uint8  \n",
      "dtypes: float64(2), int64(2), object(1), uint8(8)\n",
      "memory usage: 41.9+ KB\n"
     ]
    }
   ],
   "source": [
    "# leo los datos\n",
    "TitanicData = pd.read_csv('titanic_train.csv')\n",
    "TitanicData = TitanicData[['Pclass', 'Survived', 'Sex', 'Age', 'SibSp', 'Parch', 'Fare', 'Embarked']]\n",
    "# convertimos a strings las siguientes columnas para hacer el OneHot encoding\n",
    "TitanicData['Survived'] = TitanicData['Survived'].apply(str)\n",
    "TitanicData['Pclass'] = TitanicData['Pclass'].apply(str)\n",
    "age_mean = TitanicData[\"Age\"].mean()\n",
    "TitanicData['Age'].fillna(age_mean, inplace = True)\n",
    "TitanicData['Embarked'].fillna('S', inplace = True)\n",
    "# Passenger class(Pclass): 1 = 1st, 2 = 2nd, 3 = 3rd\n",
    "# Puertos de embarque(Embarked): C = Cherbourg, Q = Queenstown, S = Southampton\n",
    "# Sexo(Sex): Male, Female\n",
    "TitanicData = pd.get_dummies(TitanicData, columns=['Sex', 'Embarked', 'Pclass'])\n",
    "TitanicData.info()\n",
    "#print(TitanicData['SibSp'].value_counts())\n",
    "#print(TitanicData['Parch'].value_counts())\n",
    "#print(TitanicData['Embarked'].value_counts())"
   ]
  },
  {
   "cell_type": "markdown",
   "metadata": {},
   "source": [
    "## Procesando datos"
   ]
  },
  {
   "cell_type": "code",
   "execution_count": 40,
   "metadata": {},
   "outputs": [
    {
     "name": "stdout",
     "output_type": "stream",
     "text": [
      "<class 'pandas.core.frame.DataFrame'>\n",
      "RangeIndex: 891 entries, 0 to 890\n",
      "Data columns (total 12 columns):\n",
      " #   Column      Non-Null Count  Dtype  \n",
      "---  ------      --------------  -----  \n",
      " 0   Age         891 non-null    float64\n",
      " 1   SibSp       891 non-null    int64  \n",
      " 2   Parch       891 non-null    int64  \n",
      " 3   Fare        891 non-null    float64\n",
      " 4   Sex_female  891 non-null    uint8  \n",
      " 5   Sex_male    891 non-null    uint8  \n",
      " 6   Embarked_C  891 non-null    uint8  \n",
      " 7   Embarked_Q  891 non-null    uint8  \n",
      " 8   Embarked_S  891 non-null    uint8  \n",
      " 9   Pclass_1    891 non-null    uint8  \n",
      " 10  Pclass_2    891 non-null    uint8  \n",
      " 11  Pclass_3    891 non-null    uint8  \n",
      "dtypes: float64(2), int64(2), uint8(8)\n",
      "memory usage: 34.9 KB\n"
     ]
    }
   ],
   "source": [
    "# convertiremos el campo Survived a codificación one hot, ya que será el valor para nuestra clasificación\n",
    "# Survived: 0 = No, 1 = Yes\n",
    "survived = pd.get_dummies(TitanicData['Survived'])\n",
    "Xinput = TitanicData.drop(['Survived'], axis=1)\n",
    "Xinput.info()"
   ]
  },
  {
   "cell_type": "code",
   "execution_count": 41,
   "metadata": {},
   "outputs": [
    {
     "data": {
      "text/html": [
       "<div>\n",
       "<style scoped>\n",
       "    .dataframe tbody tr th:only-of-type {\n",
       "        vertical-align: middle;\n",
       "    }\n",
       "\n",
       "    .dataframe tbody tr th {\n",
       "        vertical-align: top;\n",
       "    }\n",
       "\n",
       "    .dataframe thead th {\n",
       "        text-align: right;\n",
       "    }\n",
       "</style>\n",
       "<table border=\"1\" class=\"dataframe\">\n",
       "  <thead>\n",
       "    <tr style=\"text-align: right;\">\n",
       "      <th></th>\n",
       "      <th>Age</th>\n",
       "      <th>SibSp</th>\n",
       "      <th>Parch</th>\n",
       "      <th>Fare</th>\n",
       "      <th>Sex_female</th>\n",
       "      <th>Sex_male</th>\n",
       "      <th>Embarked_C</th>\n",
       "      <th>Embarked_Q</th>\n",
       "      <th>Embarked_S</th>\n",
       "      <th>Pclass_1</th>\n",
       "      <th>Pclass_2</th>\n",
       "      <th>Pclass_3</th>\n",
       "    </tr>\n",
       "  </thead>\n",
       "  <tbody>\n",
       "    <tr>\n",
       "      <th>0</th>\n",
       "      <td>-0.592148</td>\n",
       "      <td>0.432550</td>\n",
       "      <td>-0.473408</td>\n",
       "      <td>-0.502163</td>\n",
       "      <td>-0.737281</td>\n",
       "      <td>0.737281</td>\n",
       "      <td>-0.481772</td>\n",
       "      <td>-0.30739</td>\n",
       "      <td>0.615493</td>\n",
       "      <td>-0.565368</td>\n",
       "      <td>-0.509865</td>\n",
       "      <td>0.902081</td>\n",
       "    </tr>\n",
       "    <tr>\n",
       "      <th>1</th>\n",
       "      <td>0.638430</td>\n",
       "      <td>0.432550</td>\n",
       "      <td>-0.473408</td>\n",
       "      <td>0.786404</td>\n",
       "      <td>1.354813</td>\n",
       "      <td>-1.354813</td>\n",
       "      <td>2.073341</td>\n",
       "      <td>-0.30739</td>\n",
       "      <td>-1.622891</td>\n",
       "      <td>1.766775</td>\n",
       "      <td>-0.509865</td>\n",
       "      <td>-1.107304</td>\n",
       "    </tr>\n",
       "    <tr>\n",
       "      <th>2</th>\n",
       "      <td>-0.284503</td>\n",
       "      <td>-0.474279</td>\n",
       "      <td>-0.473408</td>\n",
       "      <td>-0.488580</td>\n",
       "      <td>1.354813</td>\n",
       "      <td>-1.354813</td>\n",
       "      <td>-0.481772</td>\n",
       "      <td>-0.30739</td>\n",
       "      <td>0.615493</td>\n",
       "      <td>-0.565368</td>\n",
       "      <td>-0.509865</td>\n",
       "      <td>0.902081</td>\n",
       "    </tr>\n",
       "    <tr>\n",
       "      <th>3</th>\n",
       "      <td>0.407697</td>\n",
       "      <td>0.432550</td>\n",
       "      <td>-0.473408</td>\n",
       "      <td>0.420494</td>\n",
       "      <td>1.354813</td>\n",
       "      <td>-1.354813</td>\n",
       "      <td>-0.481772</td>\n",
       "      <td>-0.30739</td>\n",
       "      <td>0.615493</td>\n",
       "      <td>1.766775</td>\n",
       "      <td>-0.509865</td>\n",
       "      <td>-1.107304</td>\n",
       "    </tr>\n",
       "    <tr>\n",
       "      <th>4</th>\n",
       "      <td>0.407697</td>\n",
       "      <td>-0.474279</td>\n",
       "      <td>-0.473408</td>\n",
       "      <td>-0.486064</td>\n",
       "      <td>-0.737281</td>\n",
       "      <td>0.737281</td>\n",
       "      <td>-0.481772</td>\n",
       "      <td>-0.30739</td>\n",
       "      <td>0.615493</td>\n",
       "      <td>-0.565368</td>\n",
       "      <td>-0.509865</td>\n",
       "      <td>0.902081</td>\n",
       "    </tr>\n",
       "  </tbody>\n",
       "</table>\n",
       "</div>"
      ],
      "text/plain": [
       "        Age     SibSp     Parch      Fare  Sex_female  Sex_male  Embarked_C  \\\n",
       "0 -0.592148  0.432550 -0.473408 -0.502163   -0.737281  0.737281   -0.481772   \n",
       "1  0.638430  0.432550 -0.473408  0.786404    1.354813 -1.354813    2.073341   \n",
       "2 -0.284503 -0.474279 -0.473408 -0.488580    1.354813 -1.354813   -0.481772   \n",
       "3  0.407697  0.432550 -0.473408  0.420494    1.354813 -1.354813   -0.481772   \n",
       "4  0.407697 -0.474279 -0.473408 -0.486064   -0.737281  0.737281   -0.481772   \n",
       "\n",
       "   Embarked_Q  Embarked_S  Pclass_1  Pclass_2  Pclass_3  \n",
       "0    -0.30739    0.615493 -0.565368 -0.509865  0.902081  \n",
       "1    -0.30739   -1.622891  1.766775 -0.509865 -1.107304  \n",
       "2    -0.30739    0.615493 -0.565368 -0.509865  0.902081  \n",
       "3    -0.30739    0.615493  1.766775 -0.509865 -1.107304  \n",
       "4    -0.30739    0.615493 -0.565368 -0.509865  0.902081  "
      ]
     },
     "execution_count": 41,
     "metadata": {},
     "output_type": "execute_result"
    }
   ],
   "source": [
    "# aplicando la normalización de los datos\n",
    "Xinput, mediaXinput, stdXinput = normalize(Xinput)\n",
    "Xinput.head()"
   ]
  },
  {
   "cell_type": "code",
   "execution_count": 42,
   "metadata": {},
   "outputs": [
    {
     "name": "stdout",
     "output_type": "stream",
     "text": [
      "(891, 12)\n",
      "(891, 2)\n"
     ]
    }
   ],
   "source": [
    "print(Xinput.shape)\n",
    "print(survived.shape)\n"
   ]
  },
  {
   "cell_type": "code",
   "execution_count": 43,
   "metadata": {
    "scrolled": true
   },
   "outputs": [
    {
     "data": {
      "text/html": [
       "<div>\n",
       "<style scoped>\n",
       "    .dataframe tbody tr th:only-of-type {\n",
       "        vertical-align: middle;\n",
       "    }\n",
       "\n",
       "    .dataframe tbody tr th {\n",
       "        vertical-align: top;\n",
       "    }\n",
       "\n",
       "    .dataframe thead th {\n",
       "        text-align: right;\n",
       "    }\n",
       "</style>\n",
       "<table border=\"1\" class=\"dataframe\">\n",
       "  <thead>\n",
       "    <tr style=\"text-align: right;\">\n",
       "      <th></th>\n",
       "      <th>0</th>\n",
       "      <th>1</th>\n",
       "    </tr>\n",
       "  </thead>\n",
       "  <tbody>\n",
       "    <tr>\n",
       "      <th>0</th>\n",
       "      <td>1</td>\n",
       "      <td>0</td>\n",
       "    </tr>\n",
       "    <tr>\n",
       "      <th>1</th>\n",
       "      <td>0</td>\n",
       "      <td>1</td>\n",
       "    </tr>\n",
       "    <tr>\n",
       "      <th>2</th>\n",
       "      <td>0</td>\n",
       "      <td>1</td>\n",
       "    </tr>\n",
       "    <tr>\n",
       "      <th>3</th>\n",
       "      <td>0</td>\n",
       "      <td>1</td>\n",
       "    </tr>\n",
       "    <tr>\n",
       "      <th>4</th>\n",
       "      <td>1</td>\n",
       "      <td>0</td>\n",
       "    </tr>\n",
       "    <tr>\n",
       "      <th>...</th>\n",
       "      <td>...</td>\n",
       "      <td>...</td>\n",
       "    </tr>\n",
       "    <tr>\n",
       "      <th>886</th>\n",
       "      <td>1</td>\n",
       "      <td>0</td>\n",
       "    </tr>\n",
       "    <tr>\n",
       "      <th>887</th>\n",
       "      <td>0</td>\n",
       "      <td>1</td>\n",
       "    </tr>\n",
       "    <tr>\n",
       "      <th>888</th>\n",
       "      <td>1</td>\n",
       "      <td>0</td>\n",
       "    </tr>\n",
       "    <tr>\n",
       "      <th>889</th>\n",
       "      <td>0</td>\n",
       "      <td>1</td>\n",
       "    </tr>\n",
       "    <tr>\n",
       "      <th>890</th>\n",
       "      <td>1</td>\n",
       "      <td>0</td>\n",
       "    </tr>\n",
       "  </tbody>\n",
       "</table>\n",
       "<p>891 rows × 2 columns</p>\n",
       "</div>"
      ],
      "text/plain": [
       "     0  1\n",
       "0    1  0\n",
       "1    0  1\n",
       "2    0  1\n",
       "3    0  1\n",
       "4    1  0\n",
       "..  .. ..\n",
       "886  1  0\n",
       "887  0  1\n",
       "888  1  0\n",
       "889  0  1\n",
       "890  1  0\n",
       "\n",
       "[891 rows x 2 columns]"
      ]
     },
     "execution_count": 43,
     "metadata": {},
     "output_type": "execute_result"
    }
   ],
   "source": [
    "survived\n"
   ]
  },
  {
   "cell_type": "code",
   "execution_count": 44,
   "metadata": {},
   "outputs": [],
   "source": [
    "surv = survived.iloc[:,1]"
   ]
  },
  {
   "cell_type": "code",
   "execution_count": 45,
   "metadata": {},
   "outputs": [
    {
     "data": {
      "text/plain": [
       "SVR()"
      ]
     },
     "execution_count": 45,
     "metadata": {},
     "output_type": "execute_result"
    }
   ],
   "source": [
    "regresor_svm = svm.SVR()\n",
    "regresor_svm.fit(Xinput, surv)"
   ]
  },
  {
   "cell_type": "code",
   "execution_count": 46,
   "metadata": {},
   "outputs": [],
   "source": [
    "Y_pred = regresor_svm.predict(Xinput)\n"
   ]
  },
  {
   "cell_type": "code",
   "execution_count": 47,
   "metadata": {},
   "outputs": [
    {
     "name": "stdout",
     "output_type": "stream",
     "text": [
      "Mean squared error: 0.13\n",
      "Variance score: 0.47\n"
     ]
    }
   ],
   "source": [
    "# Error cuadrático medio\n",
    "print(\"Mean squared error: %.2f\" % mean_squared_error(surv, Y_pred))\n",
    "# Evaluamos el puntaje de varianza (siendo 1.0 el mejor posible)\n",
    "print('Variance score: %.2f' % r2_score(surv, Y_pred))"
   ]
  },
  {
   "cell_type": "code",
   "execution_count": 63,
   "metadata": {},
   "outputs": [
    {
     "name": "stdout",
     "output_type": "stream",
     "text": [
      "Exactitud: 0.39 (+/- 0.08)\n"
     ]
    }
   ],
   "source": [
    "from sklearn.model_selection import cross_val_score\n",
    "regre = svm.SVR()\n",
    "scores = cross_val_score(regre, Xinput, surv, cv=3)\n",
    "print(\"Exactitud: %0.2f (+/- %0.2f)\" % (scores.mean(), scores.std() * 2))"
   ]
  },
  {
   "cell_type": "markdown",
   "metadata": {},
   "source": [
    "## Kernel lineal"
   ]
  },
  {
   "cell_type": "code",
   "execution_count": 57,
   "metadata": {},
   "outputs": [
    {
     "name": "stdout",
     "output_type": "stream",
     "text": [
      "Exactitud: 0.79 (+/- 0.02)\n"
     ]
    }
   ],
   "source": [
    "from sklearn.model_selection import cross_val_score\n",
    "regre = svm.SVC(kernel='linear')\n",
    "scores = cross_val_score(regre, Xinput, surv, cv=3)\n",
    "print(\"Exactitud: %0.2f (+/- %0.2f)\" % (scores.mean(), scores.std() * 2))"
   ]
  },
  {
   "cell_type": "markdown",
   "metadata": {},
   "source": [
    "## Kernel Poly"
   ]
  },
  {
   "cell_type": "code",
   "execution_count": 61,
   "metadata": {},
   "outputs": [
    {
     "name": "stdout",
     "output_type": "stream",
     "text": [
      "Exactitud: 0.82 (+/- 0.03)\n"
     ]
    }
   ],
   "source": [
    "from sklearn.model_selection import cross_val_score\n",
    "regre = svm.SVC(kernel='poly')\n",
    "scores = cross_val_score(regre, Xinput, surv, cv=3)\n",
    "print(\"Exactitud: %0.2f (+/- %0.2f)\" % (scores.mean(), scores.std() * 2))"
   ]
  },
  {
   "cell_type": "markdown",
   "metadata": {},
   "source": [
    "## Kernel RBF"
   ]
  },
  {
   "cell_type": "code",
   "execution_count": 62,
   "metadata": {},
   "outputs": [
    {
     "name": "stdout",
     "output_type": "stream",
     "text": [
      "Exactitud: 0.83 (+/- 0.02)\n"
     ]
    }
   ],
   "source": [
    "from sklearn.model_selection import cross_val_score\n",
    "regre = svm.SVC(kernel='rbf')\n",
    "scores = cross_val_score(regre, Xinput, surv, cv=3)\n",
    "print(\"Exactitud: %0.2f (+/- %0.2f)\" % (scores.mean(), scores.std() * 2))"
   ]
  },
  {
   "cell_type": "code",
   "execution_count": 71,
   "metadata": {},
   "outputs": [
    {
     "data": {
      "text/plain": [
       "[1, 10, 100, 1000, 10000, 100000, 1000000, 10000000, 100000000, 1000000000]"
      ]
     },
     "execution_count": 71,
     "metadata": {},
     "output_type": "execute_result"
    }
   ],
   "source": [
    "CL = [ 10**x for x in range(10) ]\n",
    "CL"
   ]
  },
  {
   "cell_type": "code",
   "execution_count": 72,
   "metadata": {},
   "outputs": [
    {
     "name": "stdout",
     "output_type": "stream",
     "text": [
      "Exactitud: 0.83 (+/- 0.02)\n",
      "Exactitud: 0.82 (+/- 0.03)\n",
      "Exactitud: 0.80 (+/- 0.05)\n",
      "Exactitud: 0.79 (+/- 0.05)\n",
      "Exactitud: 0.78 (+/- 0.04)\n",
      "Exactitud: 0.76 (+/- 0.02)\n",
      "Exactitud: 0.75 (+/- 0.03)\n",
      "Exactitud: 0.75 (+/- 0.01)\n",
      "Exactitud: 0.74 (+/- 0.04)\n",
      "Exactitud: 0.71 (+/- 0.01)\n"
     ]
    }
   ],
   "source": [
    "for C in CL:\n",
    "    regre = svm.SVC(kernel='rbf', C=C)\n",
    "    scores = cross_val_score(regre, Xinput, surv, cv=3)\n",
    "    print(\"Exactitud: %0.2f (+/- %0.2f)\" % (scores.mean(), scores.std() * 2))"
   ]
  },
  {
   "cell_type": "code",
   "execution_count": null,
   "metadata": {},
   "outputs": [],
   "source": []
  }
 ],
 "metadata": {
  "kernelspec": {
   "display_name": "Python 3",
   "language": "python",
   "name": "python3"
  },
  "language_info": {
   "codemirror_mode": {
    "name": "ipython",
    "version": 3
   },
   "file_extension": ".py",
   "mimetype": "text/x-python",
   "name": "python",
   "nbconvert_exporter": "python",
   "pygments_lexer": "ipython3",
   "version": "3.8.6"
  }
 },
 "nbformat": 4,
 "nbformat_minor": 4
}
