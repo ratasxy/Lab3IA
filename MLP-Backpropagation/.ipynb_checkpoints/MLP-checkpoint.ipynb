{
 "cells": [
  {
   "cell_type": "code",
   "execution_count": 1,
   "metadata": {},
   "outputs": [],
   "source": [
    "import numpy as np\n",
    "import pandas as pd\n",
    "import matplotlib.pyplot as plt\n",
    "import math"
   ]
  },
  {
   "cell_type": "markdown",
   "metadata": {},
   "source": [
    "# Leer Datos"
   ]
  },
  {
   "cell_type": "code",
   "execution_count": null,
   "metadata": {},
   "outputs": [],
   "source": []
  },
  {
   "cell_type": "markdown",
   "metadata": {},
   "source": [
    "# Normalizar Datos"
   ]
  },
  {
   "cell_type": "code",
   "execution_count": null,
   "metadata": {},
   "outputs": [],
   "source": []
  },
  {
   "cell_type": "markdown",
   "metadata": {},
   "source": [
    "# Calcular Accuracy"
   ]
  },
  {
   "cell_type": "code",
   "execution_count": null,
   "metadata": {},
   "outputs": [],
   "source": []
  },
  {
   "cell_type": "markdown",
   "metadata": {},
   "source": [
    "# Crear k-folds"
   ]
  },
  {
   "cell_type": "code",
   "execution_count": null,
   "metadata": {},
   "outputs": [],
   "source": []
  },
  {
   "cell_type": "markdown",
   "metadata": {},
   "source": [
    "# Sigmoidal"
   ]
  },
  {
   "cell_type": "code",
   "execution_count": 7,
   "metadata": {},
   "outputs": [],
   "source": [
    "# implemento la función sigmoidal\n",
    "def sigmoidal(x):\n",
    "    return 1.0 / (1 + math.exp(-x)) \n",
    "\n",
    "# vectorizo la función, para trabajar con matrices\n",
    "sigma = np.vectorize(sigmoidal)"
   ]
  },
  {
   "cell_type": "markdown",
   "metadata": {},
   "source": [
    "# Calcular Función de Costo\n",
    "En teoría la función costo es la norma del vector resultante de la diferencia del valor resultante de la entrada X y su valor resultante definido.  \n",
    "$$\n",
    "Cost(X, y) = \\sum_{i=0}^{m}(y^i- \\hat{y}^i)^{2} = \\|h_{\\theta}(X) - y\\|\n",
    "$$"
   ]
  },
  {
   "cell_type": "code",
   "execution_count": 13,
   "metadata": {},
   "outputs": [],
   "source": [
    "# recibo los datos\n",
    "def Calcular_Funcion_Costo(y):\n",
    "    return np.linalg.norm(y)\n"
   ]
  },
  {
   "cell_type": "markdown",
   "metadata": {},
   "source": [
    "# dS\n",
    "Recibe los datos $D$ y calcula para dichos datos la derivada de la función sigmoidal.  \n",
    "Recibiré un vector $a$ como en la teoría está establecido, luego retornaré la derivada de la función sigmoidal, dada por la ecuación:  \n",
    "$$\n",
    "\\frac{d\\sigma(x)}{dx} = \\sigma(x)(1 - \\sigma(x))\n",
    "$$\n",
    "Todo esto en notación vectorial."
   ]
  },
  {
   "cell_type": "code",
   "execution_count": 19,
   "metadata": {},
   "outputs": [],
   "source": [
    "def dS(D):\n",
    "    # recordemos que la variable sigma es la función sigmoidal vectorizada\n",
    "    return sigma(D)*(1 - sigma(D))\n"
   ]
  },
  {
   "cell_type": "markdown",
   "metadata": {},
   "source": [
    "# Forward\n",
    "Recibe los datos $X$ y un diccionario de parámetros $W$ (i.e. los pesos de cada capa), donde cada elemento del diccionario es una matriz de pesos; y realiza la etapa de propagación. Devuelve un diccionario de activaciones $A$, donde cada elemento del diccionario son las activaciones de cada capa."
   ]
  },
  {
   "cell_type": "code",
   "execution_count": 55,
   "metadata": {},
   "outputs": [
    {
     "name": "stdout",
     "output_type": "stream",
     "text": [
      "{0: {'W': array([[0.15003967, 0.63424992, 0.68008451],\n",
      "       [0.58899395, 0.44729417, 0.61609762]]), 'b': array([[0.50979911],\n",
      "       [0.73271603]])}, 1: {'W': array([[0.63060104, 0.31729422],\n",
      "       [0.27195333, 0.20353948],\n",
      "       [0.73997457, 0.22853552]]), 'b': array([[0.08346933],\n",
      "       [0.04926133],\n",
      "       [0.197024  ]])}, 2: {'W': array([[0.44588482, 0.64505532, 0.20506138],\n",
      "       [0.36702565, 0.37977375, 0.68961344],\n",
      "       [0.24619529, 0.73138857, 0.8429069 ],\n",
      "       [0.4174936 , 0.92881588, 0.56423306]]), 'b': array([[0.15839827],\n",
      "       [0.69022616],\n",
      "       [0.54818453],\n",
      "       [0.05221813]])}}\n"
     ]
    },
    {
     "data": {
      "text/plain": [
       "{0: {'a': array([[100],\n",
       "         [ 50],\n",
       "         [ 70]])},\n",
       " 1: {'a': array([[1.],\n",
       "         [1.]]),\n",
       "  'z': array([[ 94.83217791],\n",
       "         [125.12365322]])},\n",
       " 2: {'a': array([[0.73718036],\n",
       "         [0.62825877],\n",
       "         [0.76233683]]),\n",
       "  'z': array([[1.03136459],\n",
       "         [0.52475414],\n",
       "         [1.16553409]])},\n",
       " 3: {'a': array([[0.74052198],\n",
       "         [0.84878512],\n",
       "         [0.86197068],\n",
       "         [0.79797061]]),\n",
       "  'z': array([[1.0486833 ],\n",
       "         [1.72510417],\n",
       "         [1.83175512],\n",
       "         [1.37365858]])}}"
      ]
     },
     "execution_count": 55,
     "metadata": {},
     "output_type": "execute_result"
    }
   ],
   "source": [
    "# El primer paso es crear todas las matrices de pesos basándonos en las dimensiones de la entrada X\n",
    "# y el tamaño del batch que ingresaremos\n",
    "def generar_pesos(parameters, batch):\n",
    "    layers = {}\n",
    "    n = len(parameters)\n",
    "    # i -> (0,1,...,n-1)\n",
    "    for i in range(n - 1):\n",
    "        layers[i] = {\"W\": np.random.rand(parameters[i+1], parameters[i]),\n",
    "                     \"b\": np.random.rand(parameters[i+1], 1)}\n",
    "    return layers\n",
    "\n",
    "def Forward(X, W):\n",
    "    A = {0: {\"a\": X}} # el diccionario a retornar\n",
    "               # como primer elemento de la lista esta X, para mantener el orden\n",
    "    n = len(W) # primero extraigo la cantidad de pesos para iterar sobre eso\n",
    "    for i in range(1, n + 1):\n",
    "        activation = W[i-1][\"W\"] @ A[i-1][\"a\"] + W[i-1][\"b\"] # se hace broadcasting al sumar el bias\n",
    "        A[i] = {\"a\": sigma(activation), \"z\": activation}\n",
    "    return A\n",
    "\n",
    "weigths = generar_pesos([3,2,3,4], 1)\n",
    "print(weigths)\n",
    "myX = np.array([[100],[50],[70]])\n",
    "out = Forward(myX, weigths)\n",
    "out"
   ]
  },
  {
   "cell_type": "markdown",
   "metadata": {},
   "source": [
    "# Backward"
   ]
  },
  {
   "cell_type": "code",
   "execution_count": null,
   "metadata": {},
   "outputs": [],
   "source": [
    "def Backward(X, A, W, y, lr):\n",
    "    \"\"\"\n",
    "    X: valores de entrada\n",
    "    A: diccionario con los resultados de cada capa\n",
    "    W: diccionario con los pesos de cada capa\n",
    "    y: salida de la última capa\n",
    "    lr: tasa de aprendizaje (learning rate en inglés)\n",
    "    \"\"\"\n",
    "    r = len(A)\n",
    "    deltas = {r-1: -(y - A[r-1][\"a\"]) * dS(A[r-1][\"z\"]))}\n",
    "    for i in range(r-2,-1,-1):\n",
    "        deltas[i] = (W[i][\"W\"].T @ deltas[i+1]) * dS(A[i][\"z\"])\n",
    "        # ahora viene la etapa del gradiente descendiente, para los pesos\n",
    "        W[i][\"W\"] = W[i][\"W\"] + lr * (deltas[i+1] @ A[i+1][\"a\"].T)\n",
    "        W[i][\"b\"] = W[i][\"b\"] + lr * deltas[i+1]\n",
    "    "
   ]
  },
  {
   "cell_type": "markdown",
   "metadata": {},
   "source": [
    "# Gradiente Descendiente"
   ]
  },
  {
   "cell_type": "code",
   "execution_count": 53,
   "metadata": {},
   "outputs": [
    {
     "data": {
      "text/plain": [
       "[1, 0]"
      ]
     },
     "execution_count": 53,
     "metadata": {},
     "output_type": "execute_result"
    }
   ],
   "source": [
    "list(range(1,-1,-1))"
   ]
  },
  {
   "cell_type": "code",
   "execution_count": null,
   "metadata": {},
   "outputs": [],
   "source": []
  }
 ],
 "metadata": {
  "kernelspec": {
   "display_name": "Python 3",
   "language": "python",
   "name": "python3"
  },
  "language_info": {
   "codemirror_mode": {
    "name": "ipython",
    "version": 3
   },
   "file_extension": ".py",
   "mimetype": "text/x-python",
   "name": "python",
   "nbconvert_exporter": "python",
   "pygments_lexer": "ipython3",
   "version": "3.7.6"
  }
 },
 "nbformat": 4,
 "nbformat_minor": 4
}
